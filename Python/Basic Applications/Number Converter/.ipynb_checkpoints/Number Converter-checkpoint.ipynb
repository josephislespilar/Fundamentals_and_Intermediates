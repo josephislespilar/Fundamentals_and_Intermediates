{
 "cells": [
  {
   "cell_type": "code",
   "execution_count": 8,
   "id": "1e404179",
   "metadata": {},
   "outputs": [
    {
     "name": "stdout",
     "output_type": "stream",
     "text": [
      "Enter a number: 1356258\n",
      "Number out of range\n"
     ]
    }
   ],
   "source": [
    "num = int(input(\"Enter a number: \"))\n",
    "\n",
    "def number_to_words(num):\n",
    "    units = [\"zero\", \"one\", \"two\", \"three\", \"four\", \"five\", \"six\", \"seven\", \"eight\", \"nine\", \"ten\", \"eleven\"\n",
    "            , \"twelve\", \"thirteen\", \"fourteen\", \"fifteen\", \"sixteen\", \"seventeen\", \"eighteen\", \"nineteen\"]\n",
    "    tens = [\"\", \"\", \"twenty\", \"thirty\", \"forthy\", \"fifthy\", \"sixty\", \"seventy\", \"eighty\", \"ninety\"]\n",
    "    \n",
    "    if num < 20:\n",
    "        return units[num]\n",
    "    elif num < 100:\n",
    "        return tens[num // 10] + ('' if num % 10 == 0 else ' ' + units[num % 10])\n",
    "    elif num < 1000:\n",
    "        return units[num // 100] + \" hundred\" + ('' if num % 100 == 0 else ' ' + number_to_words(num % 100))\n",
    "    elif num < 1000000:\n",
    "        return number_to_words(num // 1000) + ' thousand' + ('' if num % 1000 == 0 else ' ' + number_to_words(num % 1000))\n",
    "    else:\n",
    "        return \"Number out of range\"\n",
    "\n",
    "print(number_to_words(num))"
   ]
  },
  {
   "cell_type": "code",
   "execution_count": null,
   "id": "2b3dbbe2",
   "metadata": {},
   "outputs": [],
   "source": []
  }
 ],
 "metadata": {
  "kernelspec": {
   "display_name": "Python 3 (ipykernel)",
   "language": "python",
   "name": "python3"
  },
  "language_info": {
   "codemirror_mode": {
    "name": "ipython",
    "version": 3
   },
   "file_extension": ".py",
   "mimetype": "text/x-python",
   "name": "python",
   "nbconvert_exporter": "python",
   "pygments_lexer": "ipython3",
   "version": "3.11.2"
  }
 },
 "nbformat": 4,
 "nbformat_minor": 5
}
