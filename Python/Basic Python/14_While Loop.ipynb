{
 "cells": [
  {
   "cell_type": "markdown",
   "id": "2ee9a7ff",
   "metadata": {},
   "source": [
    "## While Loop\n",
    "\n",
    "It is used to run a block of code until a certain condition is met."
   ]
  },
  {
   "cell_type": "markdown",
   "id": "4541b6a6",
   "metadata": {},
   "source": [
    "#### Assigning a value in a variable and run the loop"
   ]
  },
  {
   "cell_type": "code",
   "execution_count": 1,
   "id": "97cf1049",
   "metadata": {},
   "outputs": [
    {
     "name": "stdout",
     "output_type": "stream",
     "text": [
      "5\n",
      "6\n",
      "7\n",
      "8\n",
      "9\n",
      "10\n",
      "Done with the loop\n"
     ]
    }
   ],
   "source": [
    "i = 5\n",
    "\n",
    "while i <= 10:\n",
    "    print(i)\n",
    "    i += 1\n",
    "    \n",
    "print(\"Done with the loop\")"
   ]
  },
  {
   "cell_type": "code",
   "execution_count": 2,
   "id": "53bb58a7",
   "metadata": {},
   "outputs": [
    {
     "name": "stdout",
     "output_type": "stream",
     "text": [
      "1\n",
      "2\n",
      "3\n",
      "4\n",
      "5\n",
      "Done with the loop\n"
     ]
    }
   ],
   "source": [
    "i = 1\n",
    "while i < 6:    \n",
    "    print(i)\n",
    "    i += 1\n",
    "\n",
    "print(\"Done with the loop\")    "
   ]
  },
  {
   "cell_type": "markdown",
   "id": "528db8b8",
   "metadata": {},
   "source": [
    "#### Exit the loop when i is equals to 3"
   ]
  },
  {
   "cell_type": "code",
   "execution_count": 3,
   "id": "99046430",
   "metadata": {},
   "outputs": [
    {
     "name": "stdout",
     "output_type": "stream",
     "text": [
      "1\n",
      "2\n",
      "3\n",
      "Done with the loop\n"
     ]
    }
   ],
   "source": [
    "i = 1\n",
    "while i < 6:\n",
    "    print(i)\n",
    "    if i == 3:\n",
    "      break\n",
    "    i += 1\n",
    "\n",
    "print(\"Done with the loop\")"
   ]
  },
  {
   "cell_type": "markdown",
   "id": "c2b3970e",
   "metadata": {},
   "source": [
    "#### Build a guessing game"
   ]
  },
  {
   "cell_type": "code",
   "execution_count": 4,
   "id": "189c4ec7",
   "metadata": {},
   "outputs": [
    {
     "name": "stdout",
     "output_type": "stream",
     "text": [
      "Enter guess: wolverine\n",
      "Enter guess: ironboy\n",
      "You win!\n"
     ]
    }
   ],
   "source": [
    "secret_word = \"ironboy\"\n",
    "guess = \"\"\n",
    "\n",
    "while guess != secret_word:\n",
    "    guess = input(\"Enter guess: \")\n",
    "\n",
    "print(\"You win!\")"
   ]
  },
  {
   "cell_type": "markdown",
   "id": "688b94f4",
   "metadata": {},
   "source": [
    "#### Guessing game with guess limit"
   ]
  },
  {
   "cell_type": "code",
   "execution_count": 5,
   "id": "bc06dff9",
   "metadata": {},
   "outputs": [
    {
     "name": "stdout",
     "output_type": "stream",
     "text": [
      "Enter a word:wolverine\n",
      "Enter a word:doctor strange\n",
      "Enter a word:ironman\n",
      "Out of Guesses, You Lose!\n"
     ]
    }
   ],
   "source": [
    "secret_word = \"ironboy\"\n",
    "guess = \"\"\n",
    "guess_count = 0\n",
    "guess_limit = 3\n",
    "out_of_guesses = False\n",
    "\n",
    "while guess != secret_word and not(out_of_guesses):\n",
    "    if guess_count < guess_limit:\n",
    "        guess = input(\"Enter a word:\")\n",
    "        guess_count += 1\n",
    "    else:\n",
    "        out_of_guesses = True\n",
    "\n",
    "if out_of_guesses:\n",
    "    print(\"Out of Guesses, You Lose!\")\n",
    "else:\n",
    "    print(\"You Win!\")"
   ]
  }
 ],
 "metadata": {
  "kernelspec": {
   "display_name": "Python 3 (ipykernel)",
   "language": "python",
   "name": "python3"
  },
  "language_info": {
   "codemirror_mode": {
    "name": "ipython",
    "version": 3
   },
   "file_extension": ".py",
   "mimetype": "text/x-python",
   "name": "python",
   "nbconvert_exporter": "python",
   "pygments_lexer": "ipython3",
   "version": "3.11.2"
  }
 },
 "nbformat": 4,
 "nbformat_minor": 5
}
