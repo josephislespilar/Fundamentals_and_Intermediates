{
 "cells": [
  {
   "cell_type": "markdown",
   "id": "c2a31b62",
   "metadata": {},
   "source": [
    "## Variables and Data Types\n",
    "\n",
    "A variable is a symbolic name that is a reference or pointer to an object."
   ]
  },
  {
   "cell_type": "markdown",
   "id": "bc54062e",
   "metadata": {},
   "source": [
    "Some built-in Python data types are: Numeric data types: int, float, complex. String data types: str. Sequence types: list, tuple, range. Binary types: bytes, bytearray, memoryview."
   ]
  },
  {
   "cell_type": "code",
   "execution_count": 1,
   "id": "f611377d",
   "metadata": {},
   "outputs": [
    {
     "name": "stdout",
     "output_type": "stream",
     "text": [
      "There once was a man named George,\n",
      "he was 65 years old.\n",
      "He really liked the name George,\n",
      "but didn't like being 65.\n"
     ]
    }
   ],
   "source": [
    "print(\"There once was a man named George,\")\n",
    "print(\"he was 65 years old.\")\n",
    "print(\"He really liked the name George,\")\n",
    "print(\"but didn't like being 65.\")"
   ]
  },
  {
   "cell_type": "code",
   "execution_count": 2,
   "id": "b470fccf",
   "metadata": {},
   "outputs": [
    {
     "name": "stdout",
     "output_type": "stream",
     "text": [
      "There once was a man named Tom, \n",
      "he was 50 years old. \n",
      "He really liked the name Tom, \n",
      "but didn't like being 50.\n"
     ]
    }
   ],
   "source": [
    "character_name = \"Tom\"\n",
    "character_age = \"50\"\n",
    "\n",
    "print(\"There once was a man named \" + character_name + \", \")\n",
    "print(\"he was \" + character_age + \" years old. \")\n",
    "print(\"He really liked the name \" + character_name + \", \")\n",
    "print(\"but didn't like being \" + character_age +\".\")"
   ]
  },
  {
   "cell_type": "code",
   "execution_count": 3,
   "id": "32389306",
   "metadata": {},
   "outputs": [
    {
     "name": "stdout",
     "output_type": "stream",
     "text": [
      "There once was a man namedTom, \n",
      "he was 50 years old. \n",
      "He really liked the name Mike, \n",
      "but didn't like being 50.\n"
     ]
    }
   ],
   "source": [
    "character_name = \"Tom\"\n",
    "character_age = \"50\"\n",
    "isMale = False\n",
    "\n",
    "print(\"There once was a man named\" + character_name + \", \")\n",
    "print(\"he was \" + character_age + \" years old. \")\n",
    "\n",
    "character_name = \"Mike\"\n",
    "print(\"He really liked the name \" + character_name + \", \")\n",
    "print(\"but didn't like being \" + character_age +\".\")"
   ]
  }
 ],
 "metadata": {
  "kernelspec": {
   "display_name": "Python 3 (ipykernel)",
   "language": "python",
   "name": "python3"
  },
  "language_info": {
   "codemirror_mode": {
    "name": "ipython",
    "version": 3
   },
   "file_extension": ".py",
   "mimetype": "text/x-python",
   "name": "python",
   "nbconvert_exporter": "python",
   "pygments_lexer": "ipython3",
   "version": "3.11.2"
  }
 },
 "nbformat": 4,
 "nbformat_minor": 5
}
