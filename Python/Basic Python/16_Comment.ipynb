{
 "cells": [
  {
   "cell_type": "markdown",
   "id": "dc201f0d",
   "metadata": {},
   "source": [
    "## Using Comments\n",
    "\n",
    "Comments is the inclusion of short descriptions along with the code to increase its readability."
   ]
  },
  {
   "cell_type": "code",
   "execution_count": 1,
   "id": "3644078f",
   "metadata": {},
   "outputs": [
    {
     "name": "stdout",
     "output_type": "stream",
     "text": [
      "Comments are fun\n"
     ]
    }
   ],
   "source": [
    "## This program is cool\n",
    "\n",
    "print(\"Comments are fun\")"
   ]
  }
 ],
 "metadata": {
  "kernelspec": {
   "display_name": "Python 3 (ipykernel)",
   "language": "python",
   "name": "python3"
  },
  "language_info": {
   "codemirror_mode": {
    "name": "ipython",
    "version": 3
   },
   "file_extension": ".py",
   "mimetype": "text/x-python",
   "name": "python",
   "nbconvert_exporter": "python",
   "pygments_lexer": "ipython3",
   "version": "3.11.2"
  }
 },
 "nbformat": 4,
 "nbformat_minor": 5
}
