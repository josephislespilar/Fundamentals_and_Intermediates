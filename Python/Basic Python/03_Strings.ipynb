{
 "cells": [
  {
   "cell_type": "markdown",
   "id": "27256a9d",
   "metadata": {},
   "source": [
    "## Working with Strings\n",
    "\n",
    "Strings are \"immutable\" which means they cannot be changed after they are created. Since strings can't be changed, we construct *new* strings as we go to represent computed values."
   ]
  },
  {
   "cell_type": "code",
   "execution_count": 1,
   "id": "deed6a36",
   "metadata": {},
   "outputs": [
    {
     "name": "stdout",
     "output_type": "stream",
     "text": [
      "Iron\n",
      "Boy\n"
     ]
    }
   ],
   "source": [
    "print(\"Iron\\nBoy\")"
   ]
  },
  {
   "cell_type": "markdown",
   "id": "0acb2323",
   "metadata": {},
   "source": [
    "#### Declaring a variable with a string"
   ]
  },
  {
   "cell_type": "code",
   "execution_count": 2,
   "id": "02e92f73",
   "metadata": {},
   "outputs": [
    {
     "name": "stdout",
     "output_type": "stream",
     "text": [
      "Iron \n",
      "Boy\n"
     ]
    }
   ],
   "source": [
    "phrase = \"Iron \\nBoy\"\n",
    "print(phrase)"
   ]
  },
  {
   "cell_type": "markdown",
   "id": "f97a2db6",
   "metadata": {},
   "source": [
    "#### Concatenation"
   ]
  },
  {
   "cell_type": "code",
   "execution_count": 3,
   "id": "ad51c99b",
   "metadata": {},
   "outputs": [
    {
     "name": "stdout",
     "output_type": "stream",
     "text": [
      "Iron \n",
      "Boy is cool\n"
     ]
    }
   ],
   "source": [
    "print(phrase + \" is cool\")"
   ]
  },
  {
   "cell_type": "markdown",
   "id": "8ca709e9",
   "metadata": {},
   "source": [
    "#### Lower Case"
   ]
  },
  {
   "cell_type": "code",
   "execution_count": 4,
   "id": "de702477",
   "metadata": {},
   "outputs": [
    {
     "name": "stdout",
     "output_type": "stream",
     "text": [
      "iron \n",
      "boy is cool\n"
     ]
    }
   ],
   "source": [
    "print(phrase.lower() + \" is cool\")"
   ]
  },
  {
   "cell_type": "markdown",
   "id": "12c8531e",
   "metadata": {},
   "source": [
    "#### Upper Case"
   ]
  },
  {
   "cell_type": "code",
   "execution_count": 5,
   "id": "ac4a3022",
   "metadata": {},
   "outputs": [
    {
     "name": "stdout",
     "output_type": "stream",
     "text": [
      "IRON \n",
      "BOY is cool\n"
     ]
    }
   ],
   "source": [
    "print(phrase.upper() + \" is cool\")"
   ]
  },
  {
   "cell_type": "markdown",
   "id": "76318a9f",
   "metadata": {},
   "source": [
    "#### Validate if strings is in upper case"
   ]
  },
  {
   "cell_type": "code",
   "execution_count": 6,
   "id": "e6f3b65f",
   "metadata": {},
   "outputs": [
    {
     "name": "stdout",
     "output_type": "stream",
     "text": [
      "True\n"
     ]
    }
   ],
   "source": [
    "print(phrase.upper().isupper())"
   ]
  },
  {
   "cell_type": "markdown",
   "id": "0e9ecd2f",
   "metadata": {},
   "source": [
    "#### Return the length value of a string"
   ]
  },
  {
   "cell_type": "code",
   "execution_count": 7,
   "id": "712e1392",
   "metadata": {},
   "outputs": [
    {
     "name": "stdout",
     "output_type": "stream",
     "text": [
      "8\n"
     ]
    }
   ],
   "source": [
    "phrase = \"Iron Boy\"\n",
    "print(len(phrase))"
   ]
  },
  {
   "cell_type": "markdown",
   "id": "961dd1a5",
   "metadata": {},
   "source": [
    "#### Return a piece of a string based on index position"
   ]
  },
  {
   "cell_type": "code",
   "execution_count": 8,
   "id": "717692b4",
   "metadata": {},
   "outputs": [
    {
     "name": "stdout",
     "output_type": "stream",
     "text": [
      "I\n"
     ]
    }
   ],
   "source": [
    "phrase = \"Iron Boy\"\n",
    "print(phrase[0])"
   ]
  },
  {
   "cell_type": "markdown",
   "id": "20fd7778",
   "metadata": {},
   "source": [
    "#### Returns the index position where a part of the string is located"
   ]
  },
  {
   "cell_type": "code",
   "execution_count": 9,
   "id": "be4aca2c",
   "metadata": {},
   "outputs": [
    {
     "name": "stdout",
     "output_type": "stream",
     "text": [
      "1\n"
     ]
    }
   ],
   "source": [
    "phrase = \"Iron Boy\"\n",
    "print(phrase.index(\"r\"))"
   ]
  },
  {
   "cell_type": "markdown",
   "id": "252b757b",
   "metadata": {},
   "source": [
    "#### Returns the index position where the string started"
   ]
  },
  {
   "cell_type": "code",
   "execution_count": 10,
   "id": "6e377f76",
   "metadata": {},
   "outputs": [
    {
     "name": "stdout",
     "output_type": "stream",
     "text": [
      "5\n"
     ]
    }
   ],
   "source": [
    "phrase = \"Iron Boy\"\n",
    "print(phrase.index(\"Boy\"))"
   ]
  },
  {
   "cell_type": "markdown",
   "id": "60edb8d9",
   "metadata": {},
   "source": [
    "#### Replace a part of a string"
   ]
  },
  {
   "cell_type": "code",
   "execution_count": 11,
   "id": "874801b8",
   "metadata": {},
   "outputs": [
    {
     "name": "stdout",
     "output_type": "stream",
     "text": [
      "Iron Man\n"
     ]
    }
   ],
   "source": [
    "phrase = \"Iron Boy\"\n",
    "print(phrase.replace(\"Boy\", \"Man\"))"
   ]
  }
 ],
 "metadata": {
  "kernelspec": {
   "display_name": "Python 3 (ipykernel)",
   "language": "python",
   "name": "python3"
  },
  "language_info": {
   "codemirror_mode": {
    "name": "ipython",
    "version": 3
   },
   "file_extension": ".py",
   "mimetype": "text/x-python",
   "name": "python",
   "nbconvert_exporter": "python",
   "pygments_lexer": "ipython3",
   "version": "3.11.2"
  }
 },
 "nbformat": 4,
 "nbformat_minor": 5
}
