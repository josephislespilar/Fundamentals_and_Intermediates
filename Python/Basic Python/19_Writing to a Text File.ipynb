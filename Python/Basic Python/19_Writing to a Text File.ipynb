{
 "cells": [
  {
   "cell_type": "markdown",
   "id": "16fd093c",
   "metadata": {},
   "source": [
    "## Writing to a text file"
   ]
  },
  {
   "cell_type": "code",
   "execution_count": 1,
   "id": "9f292a51",
   "metadata": {},
   "outputs": [
    {
     "name": "stdout",
     "output_type": "stream",
     "text": [
      "\n",
      "Norman = Data Scientist\n",
      "Kim = Data Analyst\n",
      "Melvin = Data Engineer\n",
      "Andre = Data Analyst\n"
     ]
    }
   ],
   "source": [
    "employee_file = open(\"employees.txt\", \"r\")\n",
    "\n",
    "print(employee_file.read())\n",
    "employee_file.close()"
   ]
  },
  {
   "cell_type": "markdown",
   "id": "1b5fb640",
   "metadata": {},
   "source": [
    "#### Appending a line"
   ]
  },
  {
   "cell_type": "code",
   "execution_count": 2,
   "id": "dcfc22c0",
   "metadata": {},
   "outputs": [
    {
     "name": "stdout",
     "output_type": "stream",
     "text": [
      "18\n",
      "\n",
      "Norman = Data Scientist\n",
      "Kim = Data Analyst\n",
      "Melvin = Data Engineer\n",
      "Andre = Data Analyst\n",
      "Mike = IT Support\n"
     ]
    }
   ],
   "source": [
    "employee_file = open(\"employees.txt\", \"a\")\n",
    "print(employee_file.write(\"\\nMike = IT Support\"))\n",
    "employee_file.close()\n",
    "\n",
    "employee_file = open(\"employees.txt\", \"r\")\n",
    "print(employee_file.read())\n",
    "employee_file.close()"
   ]
  },
  {
   "cell_type": "markdown",
   "id": "8234f2e4",
   "metadata": {},
   "source": [
    "#### Writing a line"
   ]
  },
  {
   "cell_type": "code",
   "execution_count": 4,
   "id": "4d2bc6fa",
   "metadata": {},
   "outputs": [
    {
     "name": "stdout",
     "output_type": "stream",
     "text": [
      "22\n",
      "\n",
      "Mike = Data Scientist\n"
     ]
    }
   ],
   "source": [
    "employee_file = open(\"employees.txt\", \"w\")\n",
    "print(employee_file.write(\"\\nMike = Data Scientist\"))\n",
    "employee_file.close()\n",
    "\n",
    "employee_file = open(\"employees.txt\", \"r\")\n",
    "print(employee_file.read())\n",
    "employee_file.close()"
   ]
  }
 ],
 "metadata": {
  "kernelspec": {
   "display_name": "Python 3 (ipykernel)",
   "language": "python",
   "name": "python3"
  },
  "language_info": {
   "codemirror_mode": {
    "name": "ipython",
    "version": 3
   },
   "file_extension": ".py",
   "mimetype": "text/x-python",
   "name": "python",
   "nbconvert_exporter": "python",
   "pygments_lexer": "ipython3",
   "version": "3.11.2"
  }
 },
 "nbformat": 4,
 "nbformat_minor": 5
}
