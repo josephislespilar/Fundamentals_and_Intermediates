{
 "cells": [
  {
   "cell_type": "markdown",
   "id": "3876a536",
   "metadata": {},
   "source": [
    "## Working with Dates"
   ]
  },
  {
   "cell_type": "markdown",
   "id": "4e5749dd",
   "metadata": {},
   "source": [
    "#### Return current datetime"
   ]
  },
  {
   "cell_type": "code",
   "execution_count": 1,
   "id": "ec8d1595",
   "metadata": {},
   "outputs": [
    {
     "name": "stdout",
     "output_type": "stream",
     "text": [
      "2023-04-08 21:55:27.106369\n"
     ]
    }
   ],
   "source": [
    "import datetime\n",
    "\n",
    "x = datetime.datetime.now()\n",
    "print(x)"
   ]
  },
  {
   "cell_type": "markdown",
   "id": "fdc548fb",
   "metadata": {},
   "source": [
    "#### Return the year and name of weekday"
   ]
  },
  {
   "cell_type": "code",
   "execution_count": 2,
   "id": "76247bbe",
   "metadata": {},
   "outputs": [
    {
     "name": "stdout",
     "output_type": "stream",
     "text": [
      "2023\n",
      "Saturday\n"
     ]
    }
   ],
   "source": [
    "x = datetime.datetime.now()\n",
    "\n",
    "print(x.year)\n",
    "print(x.strftime(\"%A\"))"
   ]
  },
  {
   "cell_type": "markdown",
   "id": "f597682d",
   "metadata": {},
   "source": [
    "#### Creating date objects"
   ]
  },
  {
   "cell_type": "code",
   "execution_count": 3,
   "id": "24b7012d",
   "metadata": {},
   "outputs": [
    {
     "name": "stdout",
     "output_type": "stream",
     "text": [
      "2020-05-17 00:00:00\n"
     ]
    }
   ],
   "source": [
    "x = datetime.datetime(2020, 5, 17)\n",
    "\n",
    "print(x)"
   ]
  },
  {
   "cell_type": "markdown",
   "id": "bbd9a589",
   "metadata": {},
   "source": [
    "#### The strftime() Method\n",
    "\n",
    "The datetime object has a method for formatting date objects into readable strings.\n",
    "The method is called strftime(), and takes one parameter, format, to specify the format of the returned string.\n",
    "\n",
    "Display the name of the month:"
   ]
  },
  {
   "cell_type": "code",
   "execution_count": 4,
   "id": "fe4ec4f9",
   "metadata": {},
   "outputs": [
    {
     "name": "stdout",
     "output_type": "stream",
     "text": [
      "June\n"
     ]
    }
   ],
   "source": [
    "x = datetime.datetime(2018, 6, 1)\n",
    "\n",
    "print(x.strftime(\"%B\"))"
   ]
  }
 ],
 "metadata": {
  "kernelspec": {
   "display_name": "Python 3 (ipykernel)",
   "language": "python",
   "name": "python3"
  },
  "language_info": {
   "codemirror_mode": {
    "name": "ipython",
    "version": 3
   },
   "file_extension": ".py",
   "mimetype": "text/x-python",
   "name": "python",
   "nbconvert_exporter": "python",
   "pygments_lexer": "ipython3",
   "version": "3.11.2"
  }
 },
 "nbformat": 4,
 "nbformat_minor": 5
}
