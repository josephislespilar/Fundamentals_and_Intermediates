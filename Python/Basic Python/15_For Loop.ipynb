{
 "cells": [
  {
   "cell_type": "markdown",
   "id": "62ed40e2",
   "metadata": {},
   "source": [
    "## For Loop\n",
    "\n",
    "For loop is used to run a block of code for a certain number of times. It is used to iterate over any sequences such as list, tuple, string, etc."
   ]
  },
  {
   "cell_type": "markdown",
   "id": "5644a22a",
   "metadata": {},
   "source": [
    "#### Return each character of a string"
   ]
  },
  {
   "cell_type": "code",
   "execution_count": 2,
   "id": "7d94444a",
   "metadata": {},
   "outputs": [
    {
     "name": "stdout",
     "output_type": "stream",
     "text": [
      "I\n",
      " \n",
      "a\n",
      "m\n",
      " \n",
      "I\n",
      "r\n",
      "o\n",
      "n\n",
      " \n",
      "M\n",
      "a\n",
      "n\n"
     ]
    }
   ],
   "source": [
    "for letter in \"I am Iron Man\":    \n",
    "    print(letter)"
   ]
  },
  {
   "cell_type": "markdown",
   "id": "df737d65",
   "metadata": {},
   "source": [
    "#### Return each character from a variable"
   ]
  },
  {
   "cell_type": "code",
   "execution_count": 3,
   "id": "65d9b42d",
   "metadata": {},
   "outputs": [
    {
     "name": "stdout",
     "output_type": "stream",
     "text": [
      "I\n",
      "r\n",
      "o\n",
      "n\n",
      " \n",
      "B\n",
      "o\n",
      "y\n"
     ]
    }
   ],
   "source": [
    "letters = \"Iron Boy\"\n",
    "\n",
    "for letter in letters:\n",
    "    print(letter)"
   ]
  },
  {
   "cell_type": "markdown",
   "id": "619726af",
   "metadata": {},
   "source": [
    "#### Return each element of the list"
   ]
  },
  {
   "cell_type": "code",
   "execution_count": 4,
   "id": "e02f37b3",
   "metadata": {},
   "outputs": [
    {
     "name": "stdout",
     "output_type": "stream",
     "text": [
      "Jim\n",
      "Jerome\n",
      "Kevin\n"
     ]
    }
   ],
   "source": [
    "friends = [\"Jim\", \"Jerome\", \"Kevin\"]\n",
    "\n",
    "for friend in friends:\n",
    "    print(friend)"
   ]
  },
  {
   "cell_type": "code",
   "execution_count": 2,
   "id": "56457878",
   "metadata": {},
   "outputs": [
    {
     "name": "stdout",
     "output_type": "stream",
     "text": [
      "Jim\n",
      "Neil\n",
      "Kevin\n"
     ]
    }
   ],
   "source": [
    "friends = [\"Jim\", \"Neil\", \"Kevin\"]\n",
    "\n",
    "for index in range(len(friends)):\n",
    "    print(friends[index])"
   ]
  },
  {
   "cell_type": "markdown",
   "id": "c91d440e",
   "metadata": {},
   "source": [
    "#### Iterate each number based on range"
   ]
  },
  {
   "cell_type": "code",
   "execution_count": 5,
   "id": "579c4ddc",
   "metadata": {},
   "outputs": [
    {
     "name": "stdout",
     "output_type": "stream",
     "text": [
      "0\n",
      "1\n",
      "2\n",
      "3\n",
      "4\n",
      "5\n",
      "6\n",
      "7\n",
      "8\n",
      "9\n"
     ]
    }
   ],
   "source": [
    "for index in range(10):\n",
    "    print(index)"
   ]
  },
  {
   "cell_type": "code",
   "execution_count": 7,
   "id": "21d638de",
   "metadata": {},
   "outputs": [
    {
     "name": "stdout",
     "output_type": "stream",
     "text": [
      "3\n",
      "4\n",
      "5\n",
      "6\n",
      "7\n",
      "8\n",
      "9\n"
     ]
    }
   ],
   "source": [
    "for index in range(3, 10):\n",
    "    print(index)"
   ]
  },
  {
   "cell_type": "markdown",
   "id": "0267e1e7",
   "metadata": {},
   "source": [
    "#### Iterate each number horizontally based on range"
   ]
  },
  {
   "cell_type": "code",
   "execution_count": 8,
   "id": "a3e79e10",
   "metadata": {},
   "outputs": [
    {
     "name": "stdout",
     "output_type": "stream",
     "text": [
      "0 1 2 3 4 5 6 7 8 9 "
     ]
    }
   ],
   "source": [
    "for index in range(10):\n",
    "    print(index, end=' ')"
   ]
  },
  {
   "cell_type": "code",
   "execution_count": 9,
   "id": "5633c957",
   "metadata": {},
   "outputs": [
    {
     "name": "stdout",
     "output_type": "stream",
     "text": [
      "First Iteration\n",
      "Not first\n",
      "Not first\n",
      "Not first\n",
      "Not first\n"
     ]
    }
   ],
   "source": [
    "for index in range(5):\n",
    "    if index == 0:\n",
    "        print(\"First Iteration\")\n",
    "    else:\n",
    "        print(\"Not first\")"
   ]
  },
  {
   "cell_type": "markdown",
   "id": "5301f2fc",
   "metadata": {},
   "source": [
    "#### Exponent function"
   ]
  },
  {
   "cell_type": "code",
   "execution_count": 10,
   "id": "2b54c79c",
   "metadata": {},
   "outputs": [
    {
     "name": "stdout",
     "output_type": "stream",
     "text": [
      "81\n"
     ]
    }
   ],
   "source": [
    "def raise_to_power(base_num, pow_num):\n",
    "    result = 1\n",
    "    for index in range(pow_num):\n",
    "        result = result * base_num\n",
    "    return result\n",
    "\n",
    "print(raise_to_power(3, 4))"
   ]
  },
  {
   "cell_type": "markdown",
   "id": "e1831c25",
   "metadata": {},
   "source": [
    "#### Nested loop"
   ]
  },
  {
   "cell_type": "code",
   "execution_count": 13,
   "id": "223ef489",
   "metadata": {},
   "outputs": [
    {
     "name": "stdout",
     "output_type": "stream",
     "text": [
      "1\n",
      "2\n",
      "3\n",
      "4\n",
      "5\n",
      "6\n",
      "7\n",
      "8\n",
      "9\n",
      "0\n"
     ]
    }
   ],
   "source": [
    "for col in number_grid:\n",
    "    for row in col:\n",
    "        print(row)"
   ]
  },
  {
   "cell_type": "markdown",
   "id": "5bbafe14",
   "metadata": {},
   "source": [
    "#### 2D list and nested loop"
   ]
  },
  {
   "cell_type": "code",
   "execution_count": 11,
   "id": "1f6c78ce",
   "metadata": {},
   "outputs": [
    {
     "name": "stdout",
     "output_type": "stream",
     "text": [
      "1\n"
     ]
    }
   ],
   "source": [
    "number_grid = [\n",
    "    [1, 2, 3],\n",
    "    [4, 5, 6],\n",
    "    [7, 8, 9],\n",
    "    [0]\n",
    "]\n",
    "\n",
    "print(number_grid[0][0])"
   ]
  },
  {
   "cell_type": "markdown",
   "id": "05252694",
   "metadata": {},
   "source": [
    "#### Iterate each row in a list"
   ]
  },
  {
   "cell_type": "code",
   "execution_count": 14,
   "id": "30a7ffd8",
   "metadata": {},
   "outputs": [
    {
     "name": "stdout",
     "output_type": "stream",
     "text": [
      "[1, 2, 3]\n",
      "[4, 5, 6]\n",
      "[7, 8, 9]\n",
      "[0]\n"
     ]
    }
   ],
   "source": [
    "for row in number_grid:\n",
    "    print(row)"
   ]
  },
  {
   "cell_type": "markdown",
   "id": "9db6f78f",
   "metadata": {},
   "source": [
    "#### Build a translator"
   ]
  },
  {
   "cell_type": "code",
   "execution_count": 15,
   "id": "b4f158b8",
   "metadata": {},
   "outputs": [
    {
     "name": "stdout",
     "output_type": "stream",
     "text": [
      "Enter a phrase: ironman\n",
      "grgnmgn\n"
     ]
    }
   ],
   "source": [
    "def translate(phrase):\n",
    "    translation = \"\"\n",
    "    for letter in phrase:\n",
    "        if letter in \"AEIOUaeiou\":\n",
    "            translation = translation + \"g\"\n",
    "        else:\n",
    "            translation = translation + letter\n",
    "    return translation\n",
    "\n",
    "print(translate(input(\"Enter a phrase: \")))"
   ]
  },
  {
   "cell_type": "code",
   "execution_count": 16,
   "id": "15e34e7f",
   "metadata": {},
   "outputs": [
    {
     "name": "stdout",
     "output_type": "stream",
     "text": [
      "Enter a phrase: dog\n",
      "dgg\n"
     ]
    }
   ],
   "source": [
    "def translate(phrase):\n",
    "    translation = \"\"\n",
    "    for letter in phrase:\n",
    "        if letter.lower() in \"aeiou\":\n",
    "            if letter.isupper():\n",
    "                translation = translation + \"G\"\n",
    "            else:\n",
    "                translation = translation + \"g\"\n",
    "        else:\n",
    "            translation = translation + letter\n",
    "    return translation\n",
    "\n",
    "print(translate(input(\"Enter a phrase: \")))"
   ]
  }
 ],
 "metadata": {
  "kernelspec": {
   "display_name": "Python 3 (ipykernel)",
   "language": "python",
   "name": "python3"
  },
  "language_info": {
   "codemirror_mode": {
    "name": "ipython",
    "version": 3
   },
   "file_extension": ".py",
   "mimetype": "text/x-python",
   "name": "python",
   "nbconvert_exporter": "python",
   "pygments_lexer": "ipython3",
   "version": "3.11.2"
  }
 },
 "nbformat": 4,
 "nbformat_minor": 5
}
