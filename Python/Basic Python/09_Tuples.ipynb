{
 "cells": [
  {
   "cell_type": "markdown",
   "id": "99d64fa1",
   "metadata": {},
   "source": [
    "## Tuples\n",
    "\n",
    "A tuple is a collection which is ordered and unchangeable."
   ]
  },
  {
   "cell_type": "markdown",
   "id": "313baf1a",
   "metadata": {},
   "source": [
    "#### Return a value based on index location"
   ]
  },
  {
   "cell_type": "code",
   "execution_count": 1,
   "id": "88bfaef5",
   "metadata": {},
   "outputs": [
    {
     "name": "stdout",
     "output_type": "stream",
     "text": [
      "4\n"
     ]
    }
   ],
   "source": [
    "coordinates = (4, 5)\n",
    "\n",
    "print(coordinates[0])"
   ]
  },
  {
   "cell_type": "markdown",
   "id": "602bc322",
   "metadata": {},
   "source": [
    "#### Tuple inside a list"
   ]
  },
  {
   "cell_type": "code",
   "execution_count": 2,
   "id": "347a6f29",
   "metadata": {},
   "outputs": [
    {
     "name": "stdout",
     "output_type": "stream",
     "text": [
      "(6, 7)\n"
     ]
    }
   ],
   "source": [
    "coordinates = [(4, 5), (6,7), (80, 34)]\n",
    "\n",
    "print(coordinates[1])"
   ]
  }
 ],
 "metadata": {
  "kernelspec": {
   "display_name": "Python 3 (ipykernel)",
   "language": "python",
   "name": "python3"
  },
  "language_info": {
   "codemirror_mode": {
    "name": "ipython",
    "version": 3
   },
   "file_extension": ".py",
   "mimetype": "text/x-python",
   "name": "python",
   "nbconvert_exporter": "python",
   "pygments_lexer": "ipython3",
   "version": "3.11.2"
  }
 },
 "nbformat": 4,
 "nbformat_minor": 5
}
