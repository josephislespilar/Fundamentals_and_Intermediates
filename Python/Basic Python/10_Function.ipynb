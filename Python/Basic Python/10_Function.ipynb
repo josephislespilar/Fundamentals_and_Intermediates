{
 "cells": [
  {
   "cell_type": "markdown",
   "id": "247726c0",
   "metadata": {},
   "source": [
    "## Function\n",
    "\n",
    "Function is a block of code which only runs when it is called. You can pass data, known as parameters, into a function. A function can return data as a result."
   ]
  },
  {
   "cell_type": "markdown",
   "id": "d9116afe",
   "metadata": {},
   "source": [
    "#### Defining and calling a function"
   ]
  },
  {
   "cell_type": "code",
   "execution_count": 1,
   "id": "ca537a5b",
   "metadata": {},
   "outputs": [
    {
     "name": "stdout",
     "output_type": "stream",
     "text": [
      "Top\n",
      "Hello User\n",
      "Bottom\n"
     ]
    }
   ],
   "source": [
    "def say_hi():\n",
    "    print(\"Hello User\")\n",
    "\n",
    "    \n",
    "print(\"Top\")\n",
    "say_hi()\n",
    "print(\"Bottom\")"
   ]
  },
  {
   "cell_type": "code",
   "execution_count": 2,
   "id": "8c0125d4",
   "metadata": {},
   "outputs": [
    {
     "name": "stdout",
     "output_type": "stream",
     "text": [
      "Emil Smith\n",
      "Jake Smith\n",
      "Linus Smith\n"
     ]
    }
   ],
   "source": [
    "def my_function(lastname):\n",
    "    print(lastname + \" Smith\")\n",
    "\n",
    "my_function(\"Emil\")\n",
    "my_function(\"Jake\")\n",
    "my_function(\"Linus\")"
   ]
  },
  {
   "cell_type": "markdown",
   "id": "8a7ecb0e",
   "metadata": {},
   "source": [
    "#### Function with parameters"
   ]
  },
  {
   "cell_type": "code",
   "execution_count": 3,
   "id": "1ee9038f",
   "metadata": {},
   "outputs": [
    {
     "name": "stdout",
     "output_type": "stream",
     "text": [
      "Hello Mike you are 35\n",
      "Hello Steve you are 70\n"
     ]
    }
   ],
   "source": [
    "def say_hi(name, age):\n",
    "    print(\"Hello \" + name + \" you are \" + str(age))\n",
    "\n",
    "say_hi(\"Mike\", 35)\n",
    "say_hi(\"Steve\", 70)"
   ]
  },
  {
   "cell_type": "markdown",
   "id": "3ac5a6c1",
   "metadata": {},
   "source": [
    "#### Return statement in function"
   ]
  },
  {
   "cell_type": "code",
   "execution_count": 4,
   "id": "b1316c0c",
   "metadata": {},
   "outputs": [
    {
     "name": "stdout",
     "output_type": "stream",
     "text": [
      "27\n"
     ]
    }
   ],
   "source": [
    "def cube(num):\n",
    "    return num*num*num\n",
    "\n",
    "print(cube(3))"
   ]
  },
  {
   "cell_type": "code",
   "execution_count": 5,
   "id": "aa2a7d1d",
   "metadata": {},
   "outputs": [
    {
     "name": "stdout",
     "output_type": "stream",
     "text": [
      "64\n"
     ]
    }
   ],
   "source": [
    "def cube(num):\n",
    "    return num*num*num\n",
    "\n",
    "result = cube(4)\n",
    "print(result)"
   ]
  },
  {
   "cell_type": "code",
   "execution_count": 6,
   "id": "3e6b43a3",
   "metadata": {},
   "outputs": [
    {
     "name": "stdout",
     "output_type": "stream",
     "text": [
      "9\n"
     ]
    }
   ],
   "source": [
    "def square(number):\n",
    "    return number * number\n",
    "\n",
    "print(square(3))"
   ]
  }
 ],
 "metadata": {
  "kernelspec": {
   "display_name": "Python 3 (ipykernel)",
   "language": "python",
   "name": "python3"
  },
  "language_info": {
   "codemirror_mode": {
    "name": "ipython",
    "version": 3
   },
   "file_extension": ".py",
   "mimetype": "text/x-python",
   "name": "python",
   "nbconvert_exporter": "python",
   "pygments_lexer": "ipython3",
   "version": "3.11.2"
  }
 },
 "nbformat": 4,
 "nbformat_minor": 5
}
