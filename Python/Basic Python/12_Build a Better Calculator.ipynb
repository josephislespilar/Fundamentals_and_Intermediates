{
 "cells": [
  {
   "cell_type": "markdown",
   "id": "bb420d49",
   "metadata": {},
   "source": [
    "## Build a Better Calculator"
   ]
  },
  {
   "cell_type": "code",
   "execution_count": 2,
   "id": "1e400508",
   "metadata": {},
   "outputs": [
    {
     "name": "stdout",
     "output_type": "stream",
     "text": [
      "Enter first number: 5\n",
      "Enter operator: 10\n",
      "Enter second number: 3\n",
      "Invalid Operator\n"
     ]
    }
   ],
   "source": [
    "num1 = float(input(\"Enter first number: \"))\n",
    "op = input(\"Enter operator: \")\n",
    "num2 = float(input(\"Enter second number: \"))\n",
    "\n",
    "if op == \"+\":\n",
    "    print(num1 + num2)\n",
    "elif op ==\"-\":\n",
    "    print(num1 - num2)\n",
    "elif op ==\"/\":\n",
    "    print(num1 / num2)\n",
    "elif op ==\"*\":\n",
    "    print(num1 * num2)\n",
    "else:\n",
    "    print(\"Invalid Operator\")"
   ]
  }
 ],
 "metadata": {
  "kernelspec": {
   "display_name": "Python 3 (ipykernel)",
   "language": "python",
   "name": "python3"
  },
  "language_info": {
   "codemirror_mode": {
    "name": "ipython",
    "version": 3
   },
   "file_extension": ".py",
   "mimetype": "text/x-python",
   "name": "python",
   "nbconvert_exporter": "python",
   "pygments_lexer": "ipython3",
   "version": "3.11.2"
  }
 },
 "nbformat": 4,
 "nbformat_minor": 5
}
