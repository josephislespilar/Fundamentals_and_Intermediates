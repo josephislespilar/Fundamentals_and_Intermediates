{
 "cells": [
  {
   "cell_type": "markdown",
   "id": "91feb7ac",
   "metadata": {},
   "source": [
    "## Object Functions\n",
    "\n",
    "The object() function returns an empty object. You cannot add new properties or methods to this object. This object is the base for all classes, it holds the built-in properties and methods which are default for all classes."
   ]
  },
  {
   "cell_type": "code",
   "execution_count": 2,
   "id": "899e4777",
   "metadata": {},
   "outputs": [
    {
     "name": "stdout",
     "output_type": "stream",
     "text": [
      "False\n"
     ]
    }
   ],
   "source": [
    "from Student2 import Student\n",
    "\n",
    "student1 = Student(\"Oscar\", \"Accounting\", 3.1)\n",
    "student2 = Student(\"Phyllis\", \"Art\", 3.8)\n",
    "\n",
    "print(student1.on_honor_roll())"
   ]
  }
 ],
 "metadata": {
  "kernelspec": {
   "display_name": "Python 3 (ipykernel)",
   "language": "python",
   "name": "python3"
  },
  "language_info": {
   "codemirror_mode": {
    "name": "ipython",
    "version": 3
   },
   "file_extension": ".py",
   "mimetype": "text/x-python",
   "name": "python",
   "nbconvert_exporter": "python",
   "pygments_lexer": "ipython3",
   "version": "3.11.2"
  }
 },
 "nbformat": 4,
 "nbformat_minor": 5
}
