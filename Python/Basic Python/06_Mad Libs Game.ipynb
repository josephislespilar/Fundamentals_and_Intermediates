{
 "cells": [
  {
   "cell_type": "markdown",
   "id": "75a93c01",
   "metadata": {},
   "source": [
    "## Build a Mad Libs Game"
   ]
  },
  {
   "cell_type": "markdown",
   "id": "4f493db4",
   "metadata": {},
   "source": [
    "#### Using a print function"
   ]
  },
  {
   "cell_type": "code",
   "execution_count": 1,
   "id": "443335ff",
   "metadata": {},
   "outputs": [
    {
     "name": "stdout",
     "output_type": "stream",
     "text": [
      "Roses are red\n",
      "Violets are blue\n",
      "Here are some romantic poems\n",
      "Because I love you!\n"
     ]
    }
   ],
   "source": [
    "print(\"Roses are red\")\n",
    "print(\"Violets are blue\")\n",
    "print(\"Here are some romantic poems\")\n",
    "print(\"Because I love you!\")"
   ]
  },
  {
   "cell_type": "markdown",
   "id": "b679ad41",
   "metadata": {},
   "source": [
    "#### Using a input function"
   ]
  },
  {
   "cell_type": "code",
   "execution_count": 2,
   "id": "89ff2f9b",
   "metadata": {},
   "outputs": [
    {
     "name": "stdout",
     "output_type": "stream",
     "text": [
      "Enter a color: red\n",
      "Enter a plural noun: violets\n",
      "Enter a noun: romantic poems\n",
      "Enter a person: you!\n",
      "Roses are red\n",
      "violets are blue\n",
      "Here are some romantic poems\n",
      "Because I love you!\n"
     ]
    }
   ],
   "source": [
    "color = input(\"Enter a color: \")\n",
    "plural_noun = input(\"Enter a plural noun: \")\n",
    "noun = input(\"Enter a noun: \")\n",
    "person = input(\"Enter a person: \")\n",
    "\n",
    "print(\"Roses are \" + color)\n",
    "print(plural_noun + \" are blue\")\n",
    "print(\"Here are some \" + noun)\n",
    "print(\"Because I love \" + person)"
   ]
  }
 ],
 "metadata": {
  "kernelspec": {
   "display_name": "Python 3 (ipykernel)",
   "language": "python",
   "name": "python3"
  },
  "language_info": {
   "codemirror_mode": {
    "name": "ipython",
    "version": 3
   },
   "file_extension": ".py",
   "mimetype": "text/x-python",
   "name": "python",
   "nbconvert_exporter": "python",
   "pygments_lexer": "ipython3",
   "version": "3.11.2"
  }
 },
 "nbformat": 4,
 "nbformat_minor": 5
}
