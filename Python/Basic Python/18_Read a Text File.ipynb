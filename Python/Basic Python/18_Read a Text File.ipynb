{
 "cells": [
  {
   "cell_type": "markdown",
   "id": "2d4048fa",
   "metadata": {},
   "source": [
    "## Read a Text File"
   ]
  },
  {
   "cell_type": "code",
   "execution_count": 6,
   "id": "0af9dcba",
   "metadata": {},
   "outputs": [
    {
     "name": "stdout",
     "output_type": "stream",
     "text": [
      "\n",
      "Norman = Data Scientist\n",
      "Kim = Data Analyst\n",
      "Melvin = Data Engineer\n",
      "Andre = Data Analyst\n"
     ]
    }
   ],
   "source": [
    "employee_file = open(\"employees.txt\", \"r\")\n",
    "\n",
    "print(employee_file.read())\n",
    "employee_file.close()"
   ]
  },
  {
   "cell_type": "markdown",
   "id": "8263fd44",
   "metadata": {},
   "source": [
    "#### Validate if a text is readable"
   ]
  },
  {
   "cell_type": "code",
   "execution_count": 7,
   "id": "7f31df40",
   "metadata": {},
   "outputs": [
    {
     "name": "stdout",
     "output_type": "stream",
     "text": [
      "True\n"
     ]
    }
   ],
   "source": [
    "employee_file = open(\"employees.txt\", \"r\")\n",
    "\n",
    "print(employee_file.readable())\n",
    "employee_file.close()"
   ]
  },
  {
   "cell_type": "markdown",
   "id": "b84a2d42",
   "metadata": {},
   "source": [
    "#### Read the file through an array"
   ]
  },
  {
   "cell_type": "code",
   "execution_count": 8,
   "id": "878dbffb",
   "metadata": {},
   "outputs": [
    {
     "name": "stdout",
     "output_type": "stream",
     "text": [
      "['\\n', 'Norman = Data Scientist\\n', 'Kim = Data Analyst\\n', 'Melvin = Data Engineer\\n', 'Andre = Data Analyst']\n"
     ]
    }
   ],
   "source": [
    "employee_file = open(\"employees.txt\", \"r\")\n",
    "\n",
    "print(employee_file.readlines())\n",
    "employee_file.close()"
   ]
  },
  {
   "cell_type": "markdown",
   "id": "836c5c83",
   "metadata": {},
   "source": [
    "#### Read the file using a for loop"
   ]
  },
  {
   "cell_type": "code",
   "execution_count": 5,
   "id": "25e80395",
   "metadata": {},
   "outputs": [
    {
     "name": "stdout",
     "output_type": "stream",
     "text": [
      "\n",
      "\n",
      "Norman = Data Scientist\n"
     ]
    }
   ],
   "source": [
    "employee_file = open(\"employees.txt\", \"r\")\n",
    "for employee in employee_file.readlines():\n",
    "    print(employee)\n",
    "employee_file.close()"
   ]
  }
 ],
 "metadata": {
  "kernelspec": {
   "display_name": "Python 3 (ipykernel)",
   "language": "python",
   "name": "python3"
  },
  "language_info": {
   "codemirror_mode": {
    "name": "ipython",
    "version": 3
   },
   "file_extension": ".py",
   "mimetype": "text/x-python",
   "name": "python",
   "nbconvert_exporter": "python",
   "pygments_lexer": "ipython3",
   "version": "3.11.2"
  }
 },
 "nbformat": 4,
 "nbformat_minor": 5
}
