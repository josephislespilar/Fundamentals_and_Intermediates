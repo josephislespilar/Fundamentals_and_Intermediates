{
 "cells": [
  {
   "cell_type": "markdown",
   "id": "1ad8fb54",
   "metadata": {},
   "source": [
    "## Dictionary\n",
    "\n",
    "Dictionary is a data structure that is more generally known as an associative array. It consists of a collection of key-value pairs.\n",
    "Each key-value pair maps the key to its associated value."
   ]
  },
  {
   "cell_type": "markdown",
   "id": "66df9a79",
   "metadata": {},
   "source": [
    "#### Return the value of a key"
   ]
  },
  {
   "cell_type": "code",
   "execution_count": 1,
   "id": "2f050ed5",
   "metadata": {},
   "outputs": [
    {
     "name": "stdout",
     "output_type": "stream",
     "text": [
      "{'Jan': 'January', 'Feb': 'March', 'Mar': 'March', 'Apr': 'April', 'May': 'May', 'Jun': 'June', 'Jul': 'July', 'Aug': 'August', 'Sep': 'September', 'Oct': 'October', 'Nov': 'November', 'Dec': 'December'}\n",
      "November\n"
     ]
    }
   ],
   "source": [
    "month_conversions = {\n",
    "    \"Jan\": \"January\",\n",
    "    \"Feb\": \"March\",\n",
    "    \"Mar\": \"March\",\n",
    "    \"Apr\": \"April\",\n",
    "    \"May\": \"May\",\n",
    "    \"Jun\": \"June\",\n",
    "    \"Jul\": \"July\",\n",
    "    \"Aug\": \"August\",\n",
    "    \"Sep\": \"September\",\n",
    "    \"Oct\": \"October\",\n",
    "    \"Nov\": \"November\",\n",
    "    \"Dec\": \"December\"\n",
    "}\n",
    "\n",
    "print(month_conversions)\n",
    "print(month_conversions[\"Nov\"])"
   ]
  },
  {
   "cell_type": "code",
   "execution_count": 2,
   "id": "0b7cbaf9",
   "metadata": {},
   "outputs": [
    {
     "name": "stdout",
     "output_type": "stream",
     "text": [
      "December\n"
     ]
    }
   ],
   "source": [
    "print(month_conversions.get(\"Dec\"))"
   ]
  },
  {
   "cell_type": "markdown",
   "id": "1ee30081",
   "metadata": {},
   "source": [
    "#### Passen the value of a key"
   ]
  },
  {
   "cell_type": "code",
   "execution_count": 3,
   "id": "ea486136",
   "metadata": {},
   "outputs": [
    {
     "name": "stdout",
     "output_type": "stream",
     "text": [
      "December\n"
     ]
    }
   ],
   "source": [
    "print(month_conversions.get(\"Dec\", \"Not a valid key\"))"
   ]
  },
  {
   "cell_type": "markdown",
   "id": "8a634450",
   "metadata": {},
   "source": [
    "#### Return the number of items in a dictionary"
   ]
  },
  {
   "cell_type": "code",
   "execution_count": 4,
   "id": "91ae90e1",
   "metadata": {},
   "outputs": [
    {
     "name": "stdout",
     "output_type": "stream",
     "text": [
      "12\n"
     ]
    }
   ],
   "source": [
    "print(len(month_conversions))"
   ]
  },
  {
   "cell_type": "markdown",
   "id": "182b472f",
   "metadata": {},
   "source": [
    "#### The values in dictionary items can be of any data type"
   ]
  },
  {
   "cell_type": "code",
   "execution_count": 5,
   "id": "03dd4c94",
   "metadata": {},
   "outputs": [
    {
     "name": "stdout",
     "output_type": "stream",
     "text": [
      "{'brand': 'Ford', 'electric': False, 'year': 1964, 'colors': ['red', 'white', 'blue']}\n"
     ]
    }
   ],
   "source": [
    "thisdict = {\n",
    "  \"brand\": \"Ford\",\n",
    "  \"electric\": False,\n",
    "  \"year\": 1964,\n",
    "  \"colors\": [\"red\", \"white\", \"blue\"]\n",
    "}\n",
    "\n",
    "print(thisdict)"
   ]
  },
  {
   "cell_type": "markdown",
   "id": "eb8bfb55",
   "metadata": {},
   "source": [
    "#### Return the data types of a dictionary"
   ]
  },
  {
   "cell_type": "code",
   "execution_count": 6,
   "id": "6ae48a86",
   "metadata": {},
   "outputs": [
    {
     "name": "stdout",
     "output_type": "stream",
     "text": [
      "<class 'dict'>\n"
     ]
    }
   ],
   "source": [
    "print(type(thisdict))"
   ]
  },
  {
   "cell_type": "markdown",
   "id": "23032d14",
   "metadata": {},
   "source": [
    "#### Using the dict() method to make a dictionary"
   ]
  },
  {
   "cell_type": "code",
   "execution_count": 7,
   "id": "a323b242",
   "metadata": {},
   "outputs": [
    {
     "name": "stdout",
     "output_type": "stream",
     "text": [
      "{'name': 'John', 'age': 36, 'country': 'Norway'}\n"
     ]
    }
   ],
   "source": [
    "thisdict = dict(name = \"John\", age = 36, country = \"Norway\")\n",
    "\n",
    "print(thisdict)"
   ]
  }
 ],
 "metadata": {
  "kernelspec": {
   "display_name": "Python 3 (ipykernel)",
   "language": "python",
   "name": "python3"
  },
  "language_info": {
   "codemirror_mode": {
    "name": "ipython",
    "version": 3
   },
   "file_extension": ".py",
   "mimetype": "text/x-python",
   "name": "python",
   "nbconvert_exporter": "python",
   "pygments_lexer": "ipython3",
   "version": "3.11.2"
  }
 },
 "nbformat": 4,
 "nbformat_minor": 5
}
