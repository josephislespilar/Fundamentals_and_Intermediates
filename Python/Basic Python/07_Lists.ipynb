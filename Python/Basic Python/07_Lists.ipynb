{
 "cells": [
  {
   "cell_type": "markdown",
   "id": "a8522520",
   "metadata": {},
   "source": [
    "## Lists\n",
    "\n",
    "Lists are used to store multiple items in a single variable."
   ]
  },
  {
   "cell_type": "markdown",
   "id": "7f330ca9",
   "metadata": {},
   "source": [
    "#### Assign a list into a variable"
   ]
  },
  {
   "cell_type": "code",
   "execution_count": 1,
   "id": "70c2aeaf",
   "metadata": {},
   "outputs": [
    {
     "name": "stdout",
     "output_type": "stream",
     "text": [
      "['Kevin', 'Karen', 'Jim']\n"
     ]
    }
   ],
   "source": [
    "friends = [\"Kevin\", \"Karen\", \"Jim\"]\n",
    "\n",
    "print(friends)"
   ]
  },
  {
   "cell_type": "markdown",
   "id": "4bfb5238",
   "metadata": {},
   "source": [
    "#### Return the first element"
   ]
  },
  {
   "cell_type": "code",
   "execution_count": 2,
   "id": "46421048",
   "metadata": {},
   "outputs": [
    {
     "name": "stdout",
     "output_type": "stream",
     "text": [
      "Kevin\n"
     ]
    }
   ],
   "source": [
    "friends = [\"Kevin\", \"Karen\", \"Jim\"]\n",
    "\n",
    "print(friends[-0])"
   ]
  },
  {
   "cell_type": "markdown",
   "id": "16828a62",
   "metadata": {},
   "source": [
    "#### Return elements based on index position"
   ]
  },
  {
   "cell_type": "code",
   "execution_count": 3,
   "id": "44338775",
   "metadata": {},
   "outputs": [
    {
     "name": "stdout",
     "output_type": "stream",
     "text": [
      "['Kevin', 'Karen']\n"
     ]
    }
   ],
   "source": [
    "friends = [\"Kevin\", \"Karen\", \"Jim\", \"Oscar\", \"Toby\"]\n",
    "\n",
    "print(friends[0:2])"
   ]
  },
  {
   "cell_type": "markdown",
   "id": "4dfc110a",
   "metadata": {},
   "source": [
    "#### Modify an element"
   ]
  },
  {
   "cell_type": "code",
   "execution_count": 4,
   "id": "1c6b489f",
   "metadata": {},
   "outputs": [
    {
     "name": "stdout",
     "output_type": "stream",
     "text": [
      "['Kevin', 'Mike']\n",
      "['Kevin', 'Mike', 'Jim', 'Oscar', 'Toby']\n"
     ]
    }
   ],
   "source": [
    "friends = [\"Kevin\", \"Karen\", \"Jim\", \"Oscar\", \"Toby\"]\n",
    "friends[1] = \"Mike\"\n",
    "\n",
    "print(friends[0:2])\n",
    "print(friends)"
   ]
  }
 ],
 "metadata": {
  "kernelspec": {
   "display_name": "Python 3 (ipykernel)",
   "language": "python",
   "name": "python3"
  },
  "language_info": {
   "codemirror_mode": {
    "name": "ipython",
    "version": 3
   },
   "file_extension": ".py",
   "mimetype": "text/x-python",
   "name": "python",
   "nbconvert_exporter": "python",
   "pygments_lexer": "ipython3",
   "version": "3.11.2"
  }
 },
 "nbformat": 4,
 "nbformat_minor": 5
}
