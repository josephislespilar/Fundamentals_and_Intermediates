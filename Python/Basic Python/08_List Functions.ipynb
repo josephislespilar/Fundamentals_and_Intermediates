{
 "cells": [
  {
   "cell_type": "markdown",
   "id": "697ce536",
   "metadata": {},
   "source": [
    "## List Functions"
   ]
  },
  {
   "cell_type": "markdown",
   "id": "3d5704c1",
   "metadata": {},
   "source": [
    "#### Append a list to another list"
   ]
  },
  {
   "cell_type": "code",
   "execution_count": 1,
   "id": "0ed7b462",
   "metadata": {},
   "outputs": [
    {
     "name": "stdout",
     "output_type": "stream",
     "text": [
      "['Kevin', 'Karen', 'Jim', 'Oscar', 'Toby', 4, 8, 15, 16, 23, 42]\n"
     ]
    }
   ],
   "source": [
    "lucky_numbers = [4, 8, 15, 16, 23, 42]\n",
    "friends = [\"Kevin\", \"Karen\", \"Jim\", \"Oscar\", \"Toby\"]\n",
    "friends.extend(lucky_numbers)\n",
    "\n",
    "print(friends)"
   ]
  },
  {
   "cell_type": "markdown",
   "id": "b77c2423",
   "metadata": {},
   "source": [
    "#### Append an element in a list"
   ]
  },
  {
   "cell_type": "code",
   "execution_count": 2,
   "id": "b6e77627",
   "metadata": {},
   "outputs": [
    {
     "name": "stdout",
     "output_type": "stream",
     "text": [
      "['Kevin', 'Jerome', 'Jim', 'Oscar', 'Toby', 'Creed']\n"
     ]
    }
   ],
   "source": [
    "friends = [\"Kevin\", \"Jerome\", \"Jim\", \"Oscar\", \"Toby\"]\n",
    "friends.append(\"Creed\")\n",
    "\n",
    "print(friends)"
   ]
  },
  {
   "cell_type": "markdown",
   "id": "78508b28",
   "metadata": {},
   "source": [
    "#### Insert an element in a list with index position"
   ]
  },
  {
   "cell_type": "code",
   "execution_count": 3,
   "id": "8f0832a5",
   "metadata": {},
   "outputs": [
    {
     "name": "stdout",
     "output_type": "stream",
     "text": [
      "['Kevin', 'Kelly', 'Karen', 'Jim', 'Oscar', 'Toby']\n"
     ]
    }
   ],
   "source": [
    "friends = [\"Kevin\", \"Karen\", \"Jim\", \"Oscar\", \"Toby\"]\n",
    "friends.insert(1, \"Kelly\")\n",
    "\n",
    "print(friends)"
   ]
  },
  {
   "cell_type": "markdown",
   "id": "99669058",
   "metadata": {},
   "source": [
    "#### Remove an element in a list"
   ]
  },
  {
   "cell_type": "code",
   "execution_count": 4,
   "id": "de2e78ea",
   "metadata": {},
   "outputs": [
    {
     "name": "stdout",
     "output_type": "stream",
     "text": [
      "['Kevin', 'Karen', 'Oscar', 'Toby']\n"
     ]
    }
   ],
   "source": [
    "friends = [\"Kevin\", \"Karen\", \"Jim\", \"Oscar\", \"Toby\"]\n",
    "friends.remove(\"Jim\")\n",
    "\n",
    "print(friends)"
   ]
  },
  {
   "cell_type": "markdown",
   "id": "ce741e8b",
   "metadata": {},
   "source": [
    "#### Remove all elements"
   ]
  },
  {
   "cell_type": "code",
   "execution_count": 5,
   "id": "93d6cfc2",
   "metadata": {},
   "outputs": [
    {
     "name": "stdout",
     "output_type": "stream",
     "text": [
      "[]\n"
     ]
    }
   ],
   "source": [
    "friends = [\"Kevin\", \"Karen\", \"Jim\", \"Oscar\", \"Toby\"]\n",
    "friends.clear()\n",
    "\n",
    "print(friends)"
   ]
  },
  {
   "cell_type": "markdown",
   "id": "93984765",
   "metadata": {},
   "source": [
    "#### Remove the last element"
   ]
  },
  {
   "cell_type": "code",
   "execution_count": 6,
   "id": "9adca685",
   "metadata": {},
   "outputs": [
    {
     "name": "stdout",
     "output_type": "stream",
     "text": [
      "['Kevin', 'Karen', 'Jim', 'Oscar']\n"
     ]
    }
   ],
   "source": [
    "friends = [\"Kevin\", \"Karen\", \"Jim\", \"Oscar\", \"Toby\"]\n",
    "friends.pop()\n",
    "\n",
    "print(friends)"
   ]
  },
  {
   "cell_type": "markdown",
   "id": "80f07e79",
   "metadata": {},
   "source": [
    "#### Return the index location"
   ]
  },
  {
   "cell_type": "code",
   "execution_count": 7,
   "id": "5016b19f",
   "metadata": {},
   "outputs": [
    {
     "name": "stdout",
     "output_type": "stream",
     "text": [
      "3\n"
     ]
    }
   ],
   "source": [
    "friends = [\"Kevin\", \"Karen\", \"Jim\", \"Oscar\", \"Toby\"]\n",
    "\n",
    "print(friends.index(\"Oscar\"))"
   ]
  },
  {
   "cell_type": "markdown",
   "id": "d5a9eed5",
   "metadata": {},
   "source": [
    "#### Return the count of element"
   ]
  },
  {
   "cell_type": "code",
   "execution_count": 8,
   "id": "7429cef4",
   "metadata": {},
   "outputs": [
    {
     "name": "stdout",
     "output_type": "stream",
     "text": [
      "3\n"
     ]
    }
   ],
   "source": [
    "friends = [\"Kevin\", \"Jim\", \"Jim\", \"Jim\", \"Toby\"]\n",
    "\n",
    "print(friends.count(\"Jim\"))"
   ]
  },
  {
   "cell_type": "markdown",
   "id": "8c6494d9",
   "metadata": {},
   "source": [
    "#### Sort in ascending order"
   ]
  },
  {
   "cell_type": "code",
   "execution_count": 9,
   "id": "10d84258",
   "metadata": {},
   "outputs": [
    {
     "name": "stdout",
     "output_type": "stream",
     "text": [
      "['Jim', 'Karen', 'Kevin', 'Oscar', 'Toby']\n"
     ]
    }
   ],
   "source": [
    "friends = [\"Kevin\", \"Karen\", \"Jim\", \"Oscar\", \"Toby\"]\n",
    "friends.sort()\n",
    "\n",
    "print(friends)"
   ]
  },
  {
   "cell_type": "markdown",
   "id": "a20976cd",
   "metadata": {},
   "source": [
    "#### Return the reverse order of a list"
   ]
  },
  {
   "cell_type": "code",
   "execution_count": 10,
   "id": "2205b891",
   "metadata": {},
   "outputs": [
    {
     "name": "stdout",
     "output_type": "stream",
     "text": [
      "[42, 23, 16, 15, 8, 4]\n"
     ]
    }
   ],
   "source": [
    "lucky_numbers = [4, 8, 15, 16, 23, 42]\n",
    "lucky_numbers.reverse()\n",
    "\n",
    "print(lucky_numbers)"
   ]
  },
  {
   "cell_type": "markdown",
   "id": "94a9de12",
   "metadata": {},
   "source": [
    "#### Copy elements of a list"
   ]
  },
  {
   "cell_type": "code",
   "execution_count": 11,
   "id": "6ec1361c",
   "metadata": {},
   "outputs": [
    {
     "name": "stdout",
     "output_type": "stream",
     "text": [
      "['Kevin', 'Karen', 'Jim', 'Oscar', 'Toby']\n"
     ]
    }
   ],
   "source": [
    "friends = [\"Kevin\", \"Karen\", \"Jim\", \"Oscar\", \"Toby\"]\n",
    "friends2 = friends.copy()\n",
    "\n",
    "print(friends2)"
   ]
  }
 ],
 "metadata": {
  "kernelspec": {
   "display_name": "Python 3 (ipykernel)",
   "language": "python",
   "name": "python3"
  },
  "language_info": {
   "codemirror_mode": {
    "name": "ipython",
    "version": 3
   },
   "file_extension": ".py",
   "mimetype": "text/x-python",
   "name": "python",
   "nbconvert_exporter": "python",
   "pygments_lexer": "ipython3",
   "version": "3.11.2"
  }
 },
 "nbformat": 4,
 "nbformat_minor": 5
}
