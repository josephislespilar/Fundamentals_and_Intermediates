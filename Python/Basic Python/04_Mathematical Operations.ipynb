{
 "cells": [
  {
   "cell_type": "markdown",
   "id": "43c16f85",
   "metadata": {},
   "source": [
    "## Mathematical Operations"
   ]
  },
  {
   "cell_type": "code",
   "execution_count": 1,
   "id": "eed4bc80",
   "metadata": {},
   "outputs": [
    {
     "name": "stdout",
     "output_type": "stream",
     "text": [
      "2.0987\n"
     ]
    }
   ],
   "source": [
    "print(2.0987)"
   ]
  },
  {
   "cell_type": "code",
   "execution_count": 2,
   "id": "9556a8d8",
   "metadata": {},
   "outputs": [
    {
     "name": "stdout",
     "output_type": "stream",
     "text": [
      "-2.0987\n"
     ]
    }
   ],
   "source": [
    "print(-2.0987)"
   ]
  },
  {
   "cell_type": "markdown",
   "id": "4df46262",
   "metadata": {},
   "source": [
    "#### Addition"
   ]
  },
  {
   "cell_type": "code",
   "execution_count": 3,
   "id": "1cdcef5c",
   "metadata": {},
   "outputs": [
    {
     "name": "stdout",
     "output_type": "stream",
     "text": [
      "7.5\n"
     ]
    }
   ],
   "source": [
    "print(3 + 4.5)"
   ]
  },
  {
   "cell_type": "markdown",
   "id": "d5c5010b",
   "metadata": {},
   "source": [
    "#### Subtraction"
   ]
  },
  {
   "cell_type": "code",
   "execution_count": 4,
   "id": "21b11bd6",
   "metadata": {},
   "outputs": [
    {
     "name": "stdout",
     "output_type": "stream",
     "text": [
      "0.5\n"
     ]
    }
   ],
   "source": [
    "print(5 - 4.5)"
   ]
  },
  {
   "cell_type": "markdown",
   "id": "06e1c93f",
   "metadata": {},
   "source": [
    "#### Multiplication"
   ]
  },
  {
   "cell_type": "code",
   "execution_count": 5,
   "id": "31e0d22a",
   "metadata": {},
   "outputs": [
    {
     "name": "stdout",
     "output_type": "stream",
     "text": [
      "22.5\n"
     ]
    }
   ],
   "source": [
    "print(5 * 4.5)"
   ]
  },
  {
   "cell_type": "markdown",
   "id": "a52430b2",
   "metadata": {},
   "source": [
    "#### Division"
   ]
  },
  {
   "cell_type": "code",
   "execution_count": 6,
   "id": "ab805bc7",
   "metadata": {},
   "outputs": [
    {
     "name": "stdout",
     "output_type": "stream",
     "text": [
      "0.5\n"
     ]
    }
   ],
   "source": [
    "print(5 / 10)"
   ]
  },
  {
   "cell_type": "markdown",
   "id": "fff06b77",
   "metadata": {},
   "source": [
    "#### Modulus"
   ]
  },
  {
   "cell_type": "code",
   "execution_count": 7,
   "id": "fcf2b13e",
   "metadata": {},
   "outputs": [
    {
     "name": "stdout",
     "output_type": "stream",
     "text": [
      "1\n"
     ]
    }
   ],
   "source": [
    "print(5 % 4)"
   ]
  },
  {
   "cell_type": "markdown",
   "id": "976a1eed",
   "metadata": {},
   "source": [
    "#### Exponentiation"
   ]
  },
  {
   "cell_type": "code",
   "execution_count": 8,
   "id": "a5408e6a",
   "metadata": {},
   "outputs": [
    {
     "name": "stdout",
     "output_type": "stream",
     "text": [
      "8\n"
     ]
    }
   ],
   "source": [
    "print(2 ** 3)"
   ]
  },
  {
   "cell_type": "markdown",
   "id": "672f90fe",
   "metadata": {},
   "source": [
    "#### Floor division"
   ]
  },
  {
   "cell_type": "code",
   "execution_count": 9,
   "id": "c7158478",
   "metadata": {},
   "outputs": [
    {
     "name": "stdout",
     "output_type": "stream",
     "text": [
      "1\n"
     ]
    }
   ],
   "source": [
    "print(5 // 3)"
   ]
  },
  {
   "cell_type": "markdown",
   "id": "cb287f48",
   "metadata": {},
   "source": [
    "#### Mode"
   ]
  },
  {
   "cell_type": "code",
   "execution_count": 10,
   "id": "e3857ad2",
   "metadata": {},
   "outputs": [
    {
     "name": "stdout",
     "output_type": "stream",
     "text": [
      "30\n"
     ]
    }
   ],
   "source": [
    "print(10 * 3)"
   ]
  },
  {
   "cell_type": "code",
   "execution_count": 11,
   "id": "38f2dde6",
   "metadata": {},
   "outputs": [
    {
     "name": "stdout",
     "output_type": "stream",
     "text": [
      "27\n"
     ]
    }
   ],
   "source": [
    "print(3 * (4 + 5))"
   ]
  },
  {
   "cell_type": "markdown",
   "id": "7d266368",
   "metadata": {},
   "source": [
    "#### Store numbers in variables"
   ]
  },
  {
   "cell_type": "code",
   "execution_count": 12,
   "id": "24b7ac14",
   "metadata": {},
   "outputs": [
    {
     "name": "stdout",
     "output_type": "stream",
     "text": [
      "5\n"
     ]
    }
   ],
   "source": [
    "my_num = 5\n",
    "print(my_num)"
   ]
  },
  {
   "cell_type": "markdown",
   "id": "59940a69",
   "metadata": {},
   "source": [
    "#### Convert number into a string"
   ]
  },
  {
   "cell_type": "code",
   "execution_count": 13,
   "id": "677f132f",
   "metadata": {},
   "outputs": [
    {
     "name": "stdout",
     "output_type": "stream",
     "text": [
      "5 is my favorite number.\n"
     ]
    }
   ],
   "source": [
    "my_num = 5\n",
    "print(str(my_num) + \" is my favorite number.\")"
   ]
  },
  {
   "cell_type": "markdown",
   "id": "156dc791",
   "metadata": {},
   "source": [
    "#### Absolute value"
   ]
  },
  {
   "cell_type": "code",
   "execution_count": 14,
   "id": "6d413c9f",
   "metadata": {},
   "outputs": [
    {
     "name": "stdout",
     "output_type": "stream",
     "text": [
      "5\n"
     ]
    }
   ],
   "source": [
    "my_num = -5\n",
    "print(abs(my_num))"
   ]
  },
  {
   "cell_type": "markdown",
   "id": "50bedabe",
   "metadata": {},
   "source": [
    "#### Exponential form"
   ]
  },
  {
   "cell_type": "code",
   "execution_count": 15,
   "id": "85509280",
   "metadata": {},
   "outputs": [
    {
     "name": "stdout",
     "output_type": "stream",
     "text": [
      "9\n"
     ]
    }
   ],
   "source": [
    "my_num = -5\n",
    "print(pow(3, 2))"
   ]
  },
  {
   "cell_type": "markdown",
   "id": "4c65d870",
   "metadata": {},
   "source": [
    "#### Return the smallest number"
   ]
  },
  {
   "cell_type": "code",
   "execution_count": 16,
   "id": "36575964",
   "metadata": {},
   "outputs": [
    {
     "name": "stdout",
     "output_type": "stream",
     "text": [
      "4\n"
     ]
    }
   ],
   "source": [
    "print(min(4, 6))"
   ]
  },
  {
   "cell_type": "markdown",
   "id": "b137ff8b",
   "metadata": {},
   "source": [
    "#### Return the highest number"
   ]
  },
  {
   "cell_type": "code",
   "execution_count": 17,
   "id": "021953bb",
   "metadata": {},
   "outputs": [
    {
     "name": "stdout",
     "output_type": "stream",
     "text": [
      "6\n"
     ]
    }
   ],
   "source": [
    "print(max(4, 6))"
   ]
  },
  {
   "cell_type": "markdown",
   "id": "9282672c",
   "metadata": {},
   "source": [
    "#### Round-off numbers"
   ]
  },
  {
   "cell_type": "code",
   "execution_count": 18,
   "id": "af087d4e",
   "metadata": {},
   "outputs": [
    {
     "name": "stdout",
     "output_type": "stream",
     "text": [
      "6\n"
     ]
    }
   ],
   "source": [
    "print(round(6.3))"
   ]
  },
  {
   "cell_type": "markdown",
   "id": "6edd44f6",
   "metadata": {},
   "source": [
    "#### Library to access more math functions"
   ]
  },
  {
   "cell_type": "code",
   "execution_count": 19,
   "id": "69a0990b",
   "metadata": {},
   "outputs": [
    {
     "name": "stdout",
     "output_type": "stream",
     "text": [
      "3\n"
     ]
    }
   ],
   "source": [
    "from math import * \n",
    "\n",
    "my_num = -5\n",
    "print(floor(3.7))"
   ]
  },
  {
   "cell_type": "markdown",
   "id": "56b53714",
   "metadata": {},
   "source": [
    "#### Using ceil function"
   ]
  },
  {
   "cell_type": "code",
   "execution_count": 20,
   "id": "f7bc2977",
   "metadata": {},
   "outputs": [
    {
     "name": "stdout",
     "output_type": "stream",
     "text": [
      "4\n"
     ]
    }
   ],
   "source": [
    "print(ceil(3.7))"
   ]
  },
  {
   "cell_type": "markdown",
   "id": "a55964f0",
   "metadata": {},
   "source": [
    "#### Using square root"
   ]
  },
  {
   "cell_type": "code",
   "execution_count": 21,
   "id": "c7377e36",
   "metadata": {},
   "outputs": [
    {
     "name": "stdout",
     "output_type": "stream",
     "text": [
      "6.0\n"
     ]
    }
   ],
   "source": [
    "print(sqrt(36))"
   ]
  }
 ],
 "metadata": {
  "kernelspec": {
   "display_name": "Python 3 (ipykernel)",
   "language": "python",
   "name": "python3"
  },
  "language_info": {
   "codemirror_mode": {
    "name": "ipython",
    "version": 3
   },
   "file_extension": ".py",
   "mimetype": "text/x-python",
   "name": "python",
   "nbconvert_exporter": "python",
   "pygments_lexer": "ipython3",
   "version": "3.11.2"
  }
 },
 "nbformat": 4,
 "nbformat_minor": 5
}
