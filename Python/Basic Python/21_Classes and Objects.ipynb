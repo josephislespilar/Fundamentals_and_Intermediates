{
 "cells": [
  {
   "cell_type": "markdown",
   "id": "ce3af935",
   "metadata": {},
   "source": [
    "## Classes and Objects\n",
    "\n",
    "Is a code template for creating objects. Objects have member variables and have behaviour associated with them."
   ]
  },
  {
   "cell_type": "markdown",
   "id": "22e58750",
   "metadata": {},
   "source": [
    "#### Call a class and assign values"
   ]
  },
  {
   "cell_type": "code",
   "execution_count": 6,
   "id": "821d7239",
   "metadata": {},
   "outputs": [
    {
     "name": "stdout",
     "output_type": "stream",
     "text": [
      "Melvin\n",
      "Information Technology\n",
      "2.5\n",
      "True\n"
     ]
    }
   ],
   "source": [
    "from Student import Student\n",
    "\n",
    "student1 = Student(\"Jim\", \"Business Management\", 3.1, False)\n",
    "student2 = Student(\"Melvin\", \"Information Technology\", 2.5, True)\n",
    "\n",
    "print(student2.name)\n",
    "print(student2.major)\n",
    "print(student2.gpa)\n",
    "print(student2.is_on_probation)"
   ]
  },
  {
   "cell_type": "code",
   "execution_count": 2,
   "id": "50598b2a",
   "metadata": {},
   "outputs": [
    {
     "name": "stdout",
     "output_type": "stream",
     "text": [
      "10\n",
      "draw\n",
      "1\n"
     ]
    }
   ],
   "source": [
    "class Point:\n",
    "    def move(self):\n",
    "        print(\"move\")\n",
    "\n",
    "    def draw(self):\n",
    "        print(\"draw\")\n",
    "\n",
    "point1 = Point()\n",
    "point1.x = 10\n",
    "point1.y = 20\n",
    "print(point1.x)\n",
    "point1.draw()\n",
    "\n",
    "point2 = Point()\n",
    "point2.x = 1\n",
    "print(point2.x)"
   ]
  },
  {
   "cell_type": "code",
   "execution_count": 3,
   "id": "51c16bd6",
   "metadata": {},
   "outputs": [
    {
     "name": "stdout",
     "output_type": "stream",
     "text": [
      "John Smith\n",
      "talk\n"
     ]
    }
   ],
   "source": [
    "class Person:\n",
    "    def __init__(self, name):\n",
    "        self.name = name\n",
    "\n",
    "    def talk(self):\n",
    "        print(\"talk\")\n",
    "\n",
    "john = Person(\"John Smith\")\n",
    "print(john.name)\n",
    "john.talk()"
   ]
  }
 ],
 "metadata": {
  "kernelspec": {
   "display_name": "Python 3 (ipykernel)",
   "language": "python",
   "name": "python3"
  },
  "language_info": {
   "codemirror_mode": {
    "name": "ipython",
    "version": 3
   },
   "file_extension": ".py",
   "mimetype": "text/x-python",
   "name": "python",
   "nbconvert_exporter": "python",
   "pygments_lexer": "ipython3",
   "version": "3.11.2"
  }
 },
 "nbformat": 4,
 "nbformat_minor": 5
}
