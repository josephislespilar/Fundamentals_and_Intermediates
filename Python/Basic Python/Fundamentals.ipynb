{
 "cells": [
  {
   "cell_type": "markdown",
   "id": "46faf0af",
   "metadata": {},
   "source": [
    "## Hide Code"
   ]
  },
  {
   "cell_type": "code",
   "execution_count": 1,
   "id": "a40740c1",
   "metadata": {},
   "outputs": [
    {
     "data": {
      "text/html": [
       "<script>\n",
       "code_show=true; \n",
       "function code_toggle() {\n",
       " if (code_show){\n",
       " $('div.input').hide();\n",
       " } else {\n",
       " $('div.input').show();\n",
       " }\n",
       " code_show = !code_show\n",
       "} \n",
       "$( document ).ready(code_toggle);\n",
       "</script>\n",
       "The raw code for this iPython notebook is by default hidden for easier reading.\n",
       "To toggle on/off the raw code, click <a href=\"javascript:code_toggle()\">here</a>."
      ],
      "text/plain": [
       "<IPython.core.display.HTML object>"
      ]
     },
     "execution_count": 1,
     "metadata": {},
     "output_type": "execute_result"
    }
   ],
   "source": [
    "from IPython.display import HTML\n",
    "HTML('''<script>\n",
    "code_show=true; \n",
    "function code_toggle() {\n",
    " if (code_show){\n",
    " $('div.input').hide();\n",
    " } else {\n",
    " $('div.input').show();\n",
    " }\n",
    " code_show = !code_show\n",
    "} \n",
    "$( document ).ready(code_toggle);\n",
    "</script>\n",
    "The raw code for this iPython notebook is by default hidden for easier reading.\n",
    "To toggle on/off the raw code, click <a href=\"javascript:code_toggle()\">here</a>.''')"
   ]
  },
  {
   "cell_type": "markdown",
   "id": "b497108e",
   "metadata": {},
   "source": [
    "## Hello World"
   ]
  },
  {
   "cell_type": "code",
   "execution_count": 2,
   "id": "89d9c366",
   "metadata": {},
   "outputs": [
    {
     "name": "stdout",
     "output_type": "stream",
     "text": [
      "Hello World\n"
     ]
    }
   ],
   "source": [
    "print(\"Hello World\")"
   ]
  },
  {
   "cell_type": "markdown",
   "id": "59d29a13",
   "metadata": {},
   "source": [
    "## Drawing a Shape"
   ]
  },
  {
   "cell_type": "code",
   "execution_count": 3,
   "id": "45263d56",
   "metadata": {},
   "outputs": [
    {
     "name": "stdout",
     "output_type": "stream",
     "text": [
      "   /|\n",
      "  / |\n",
      " /  |\n",
      "/___|\n"
     ]
    }
   ],
   "source": [
    "print(\"   /|\")\n",
    "print(\"  / |\")\n",
    "print(\" /  |\")\n",
    "print(\"/___|\")"
   ]
  },
  {
   "cell_type": "markdown",
   "id": "7448962d",
   "metadata": {},
   "source": [
    "## Variables & Data Types"
   ]
  },
  {
   "cell_type": "code",
   "execution_count": 4,
   "id": "e7e957f6",
   "metadata": {},
   "outputs": [
    {
     "name": "stdout",
     "output_type": "stream",
     "text": [
      "There once was a man named George,\n",
      "he was 70 years old.\n",
      "He really liked the name George,\n",
      "but didn't like being 70.\n"
     ]
    }
   ],
   "source": [
    "print(\"There once was a man named George,\")\n",
    "print(\"he was 70 years old.\")\n",
    "print(\"He really liked the name George,\")\n",
    "print(\"but didn't like being 70.\")"
   ]
  },
  {
   "cell_type": "code",
   "execution_count": 5,
   "id": "c6dcd526",
   "metadata": {},
   "outputs": [
    {
     "name": "stdout",
     "output_type": "stream",
     "text": [
      "There once was a man named Tom, \n",
      "he was 50 years old. \n",
      "He really liked the name Tom, \n",
      "but didn't like being 50.\n"
     ]
    }
   ],
   "source": [
    "character_name = \"Tom\"\n",
    "character_age = \"50\"\n",
    "\n",
    "print(\"There once was a man named \" + character_name + \", \")\n",
    "print(\"he was \" + character_age + \" years old. \")\n",
    "print(\"He really liked the name \" + character_name + \", \")\n",
    "print(\"but didn't like being \" + character_age +\".\")"
   ]
  },
  {
   "cell_type": "code",
   "execution_count": 6,
   "id": "f6e7eb21",
   "metadata": {},
   "outputs": [
    {
     "name": "stdout",
     "output_type": "stream",
     "text": [
      "There once was a man namedTom, \n",
      "he was 50 years old. \n",
      "He really liked the name Mike, \n",
      "but didn't like being 50.\n"
     ]
    }
   ],
   "source": [
    "character_name = \"Tom\"\n",
    "character_age = \"50\"\n",
    "isMale = False\n",
    "\n",
    "print(\"There once was a man named\" + character_name + \", \")\n",
    "print(\"he was \" + character_age + \" years old. \")\n",
    "\n",
    "character_name = \"Mike\"\n",
    "print(\"He really liked the name \" + character_name + \", \")\n",
    "print(\"but didn't like being \" + character_age +\".\")"
   ]
  },
  {
   "cell_type": "markdown",
   "id": "8ade8404",
   "metadata": {},
   "source": [
    "## Working with Strings"
   ]
  },
  {
   "cell_type": "code",
   "execution_count": 7,
   "id": "138a0c85",
   "metadata": {},
   "outputs": [
    {
     "name": "stdout",
     "output_type": "stream",
     "text": [
      "Giraffe\n",
      "Academy\n"
     ]
    }
   ],
   "source": [
    "print(\"Giraffe\\nAcademy\")"
   ]
  },
  {
   "cell_type": "code",
   "execution_count": 8,
   "id": "2124ebcc",
   "metadata": {},
   "outputs": [
    {
     "name": "stdout",
     "output_type": "stream",
     "text": [
      "Giraffe \n",
      "Academy\n"
     ]
    }
   ],
   "source": [
    "phrase = \"Giraffe \\nAcademy\"\n",
    "print(phrase)"
   ]
  },
  {
   "cell_type": "code",
   "execution_count": 9,
   "id": "85cdc767",
   "metadata": {},
   "outputs": [
    {
     "name": "stdout",
     "output_type": "stream",
     "text": [
      "Giraffe \n",
      "Academy is cool\n"
     ]
    }
   ],
   "source": [
    "# Concatenation\n",
    "\n",
    "print(phrase + \" is cool\")"
   ]
  },
  {
   "cell_type": "code",
   "execution_count": 10,
   "id": "8f868082",
   "metadata": {},
   "outputs": [
    {
     "name": "stdout",
     "output_type": "stream",
     "text": [
      "giraffe \n",
      "academy is cool\n"
     ]
    }
   ],
   "source": [
    "# Lower Case\n",
    "\n",
    "print(phrase.lower() + \" is cool\")"
   ]
  },
  {
   "cell_type": "code",
   "execution_count": 11,
   "id": "f81518a4",
   "metadata": {},
   "outputs": [
    {
     "name": "stdout",
     "output_type": "stream",
     "text": [
      "GIRAFFE \n",
      "ACADEMY is cool\n"
     ]
    }
   ],
   "source": [
    "# Upper Case\n",
    "\n",
    "print(phrase.upper() + \" is cool\")"
   ]
  },
  {
   "cell_type": "code",
   "execution_count": 19,
   "id": "cd2faab9",
   "metadata": {},
   "outputs": [
    {
     "name": "stdout",
     "output_type": "stream",
     "text": [
      "True\n"
     ]
    }
   ],
   "source": [
    "# Validate if strings is in upper case\n",
    "\n",
    "print(phrase.upper().isupper())"
   ]
  },
  {
   "cell_type": "code",
   "execution_count": 20,
   "id": "0e3cdaaa",
   "metadata": {},
   "outputs": [
    {
     "name": "stdout",
     "output_type": "stream",
     "text": [
      "15\n"
     ]
    }
   ],
   "source": [
    "# Count the length of the string\n",
    "\n",
    "phrase = \"Giraffe Academy\"\n",
    "print(len(phrase))"
   ]
  },
  {
   "cell_type": "code",
   "execution_count": 21,
   "id": "c6143ccd",
   "metadata": {},
   "outputs": [
    {
     "name": "stdout",
     "output_type": "stream",
     "text": [
      "G\n"
     ]
    }
   ],
   "source": [
    "# Extracts an index from a string\n",
    "\n",
    "phrase = \"Giraffe Academy\"\n",
    "print(phrase[0])"
   ]
  },
  {
   "cell_type": "code",
   "execution_count": 22,
   "id": "8cc40e49",
   "metadata": {},
   "outputs": [
    {
     "name": "stdout",
     "output_type": "stream",
     "text": [
      "3\n"
     ]
    }
   ],
   "source": [
    "# Returns an index where the string is located\n",
    "\n",
    "phrase = \"Giraffe Academy\"\n",
    "print(phrase.index(\"a\"))"
   ]
  },
  {
   "cell_type": "code",
   "execution_count": 25,
   "id": "ca747dbc",
   "metadata": {},
   "outputs": [
    {
     "name": "stdout",
     "output_type": "stream",
     "text": [
      "8\n"
     ]
    }
   ],
   "source": [
    "# Returns an index where the string started\n",
    "\n",
    "phrase = \"Giraffe Academy\"\n",
    "print(phrase.index(\"Acad\"))"
   ]
  },
  {
   "cell_type": "code",
   "execution_count": 26,
   "id": "e3c67e8a",
   "metadata": {},
   "outputs": [
    {
     "name": "stdout",
     "output_type": "stream",
     "text": [
      "Elephant Academy\n"
     ]
    }
   ],
   "source": [
    "# Replace a string\n",
    "\n",
    "phrase = \"Giraffe Academy\"\n",
    "print(phrase.replace(\"Giraffe\", \"Elephant\"))"
   ]
  },
  {
   "cell_type": "markdown",
   "id": "fdbc7c50",
   "metadata": {},
   "source": [
    "## Working with Numbers"
   ]
  },
  {
   "cell_type": "code",
   "execution_count": 27,
   "id": "f3f969c4",
   "metadata": {},
   "outputs": [
    {
     "name": "stdout",
     "output_type": "stream",
     "text": [
      "2.0987\n"
     ]
    }
   ],
   "source": [
    "print(2.0987)"
   ]
  },
  {
   "cell_type": "code",
   "execution_count": 28,
   "id": "f363ef6f",
   "metadata": {},
   "outputs": [
    {
     "name": "stdout",
     "output_type": "stream",
     "text": [
      "-2.0987\n"
     ]
    }
   ],
   "source": [
    "print(-2.0987)"
   ]
  },
  {
   "cell_type": "code",
   "execution_count": 31,
   "id": "10824671",
   "metadata": {},
   "outputs": [
    {
     "name": "stdout",
     "output_type": "stream",
     "text": [
      "7.5\n",
      "0.5\n",
      "22.5\n",
      "2.5\n"
     ]
    }
   ],
   "source": [
    "# Addition\n",
    "print(3 + 4.5)\n",
    "\n",
    "# Subtraction\n",
    "print(5 - 4.5)\n",
    "\n",
    "# Multiplication\n",
    "print(5 * 4.5)\n",
    "\n",
    "# Division\n",
    "print(5 / 2)"
   ]
  },
  {
   "cell_type": "code",
   "execution_count": 32,
   "id": "54f4e6e1",
   "metadata": {},
   "outputs": [
    {
     "name": "stdout",
     "output_type": "stream",
     "text": [
      "27\n"
     ]
    }
   ],
   "source": [
    "print(3 * (4 + 5))"
   ]
  },
  {
   "cell_type": "code",
   "execution_count": 33,
   "id": "0073f964",
   "metadata": {},
   "outputs": [
    {
     "name": "stdout",
     "output_type": "stream",
     "text": [
      "30\n"
     ]
    }
   ],
   "source": [
    "# Mode\n",
    "\n",
    "print(10 * 3)"
   ]
  },
  {
   "cell_type": "code",
   "execution_count": 34,
   "id": "f65c44ac",
   "metadata": {},
   "outputs": [
    {
     "name": "stdout",
     "output_type": "stream",
     "text": [
      "5\n"
     ]
    }
   ],
   "source": [
    "# Store numbers in variables\n",
    "\n",
    "my_num = 5\n",
    "print(my_num)"
   ]
  },
  {
   "cell_type": "code",
   "execution_count": 37,
   "id": "9131c5fa",
   "metadata": {},
   "outputs": [
    {
     "name": "stdout",
     "output_type": "stream",
     "text": [
      "5 is my favorite number.\n"
     ]
    }
   ],
   "source": [
    "# Convert number to string\n",
    "\n",
    "my_num = 5\n",
    "print(str(my_num) + \" is my favorite number.\")"
   ]
  },
  {
   "cell_type": "code",
   "execution_count": 39,
   "id": "24e223cd",
   "metadata": {},
   "outputs": [
    {
     "name": "stdout",
     "output_type": "stream",
     "text": [
      "5\n"
     ]
    }
   ],
   "source": [
    "# Absolute value\n",
    "\n",
    "my_num = -5\n",
    "print(abs(my_num))"
   ]
  },
  {
   "cell_type": "code",
   "execution_count": 41,
   "id": "9c748e50",
   "metadata": {},
   "outputs": [
    {
     "name": "stdout",
     "output_type": "stream",
     "text": [
      "9\n"
     ]
    }
   ],
   "source": [
    "# Exponential form\n",
    "\n",
    "my_num = -5\n",
    "print(pow(3, 2))"
   ]
  },
  {
   "cell_type": "code",
   "execution_count": 42,
   "id": "9a54c149",
   "metadata": {},
   "outputs": [
    {
     "name": "stdout",
     "output_type": "stream",
     "text": [
      "4\n"
     ]
    }
   ],
   "source": [
    "# Get the smallest number\n",
    "\n",
    "print(min(4, 6))"
   ]
  },
  {
   "cell_type": "code",
   "execution_count": 43,
   "id": "dbf08c0a",
   "metadata": {},
   "outputs": [
    {
     "name": "stdout",
     "output_type": "stream",
     "text": [
      "6\n"
     ]
    }
   ],
   "source": [
    "# Get the largest number\n",
    "\n",
    "print(max(4, 6))"
   ]
  },
  {
   "cell_type": "code",
   "execution_count": 44,
   "id": "56b86d44",
   "metadata": {},
   "outputs": [
    {
     "name": "stdout",
     "output_type": "stream",
     "text": [
      "6\n"
     ]
    }
   ],
   "source": [
    "# Round off numbers\n",
    "\n",
    "print(round(6.3))"
   ]
  },
  {
   "cell_type": "code",
   "execution_count": 46,
   "id": "b481b33c",
   "metadata": {},
   "outputs": [
    {
     "name": "stdout",
     "output_type": "stream",
     "text": [
      "3\n"
     ]
    }
   ],
   "source": [
    "# Gives access to more math functions\n",
    "\n",
    "from math import * \n",
    "\n",
    "my_num = -5\n",
    "print(floor(3.7))"
   ]
  },
  {
   "cell_type": "code",
   "execution_count": 47,
   "id": "66b01965",
   "metadata": {},
   "outputs": [
    {
     "name": "stdout",
     "output_type": "stream",
     "text": [
      "4\n"
     ]
    }
   ],
   "source": [
    "print(ceil(3.7))"
   ]
  },
  {
   "cell_type": "code",
   "execution_count": 49,
   "id": "a3eafee8",
   "metadata": {},
   "outputs": [
    {
     "name": "stdout",
     "output_type": "stream",
     "text": [
      "6.0\n"
     ]
    }
   ],
   "source": [
    "#Get the square root\n",
    "\n",
    "print(sqrt(36))"
   ]
  },
  {
   "cell_type": "markdown",
   "id": "cd202899",
   "metadata": {},
   "source": [
    "## Getting input from users"
   ]
  },
  {
   "cell_type": "code",
   "execution_count": 1,
   "id": "76218018",
   "metadata": {},
   "outputs": [
    {
     "name": "stdout",
     "output_type": "stream",
     "text": [
      "Enter your Name: John\n",
      "Enter your age: 25\n",
      "Hello John! You are 25 years old.\n"
     ]
    }
   ],
   "source": [
    "name = input(\"Enter your Name: \")\n",
    "age = input(\"Enter your age: \")\n",
    "\n",
    "print(\"Hello \" + name + \"! You are \" + age + \" years old.\")"
   ]
  },
  {
   "cell_type": "markdown",
   "id": "b7eba34f",
   "metadata": {},
   "source": [
    "## Build a Basic Calculator"
   ]
  },
  {
   "cell_type": "code",
   "execution_count": 3,
   "id": "362e85f2",
   "metadata": {},
   "outputs": [
    {
     "name": "stdout",
     "output_type": "stream",
     "text": [
      "Enter a number: 5\n",
      "Enter a number: 10\n",
      "15\n"
     ]
    }
   ],
   "source": [
    "# Addition\n",
    "\n",
    "num1 = input(\"Enter a number: \")\n",
    "num2 = input(\"Enter a number: \")\n",
    "result = float(num1) + float(num2)\n",
    "\n",
    "print(result)"
   ]
  },
  {
   "cell_type": "code",
   "execution_count": 4,
   "id": "90f85626",
   "metadata": {},
   "outputs": [
    {
     "name": "stdout",
     "output_type": "stream",
     "text": [
      "Enter a number: 20\n",
      "Enter a number: 5\n",
      "15\n"
     ]
    }
   ],
   "source": [
    "# Substraction\n",
    "\n",
    "num1 = input(\"Enter a number: \")\n",
    "num2 = input(\"Enter a number: \")\n",
    "result = float(num1) - float(num2\n",
    "\n",
    "print(result)"
   ]
  },
  {
   "cell_type": "code",
   "execution_count": 5,
   "id": "61ea2c14",
   "metadata": {},
   "outputs": [
    {
     "name": "stdout",
     "output_type": "stream",
     "text": [
      "Enter a number: 5\n",
      "Enter a number: 5\n",
      "25\n"
     ]
    }
   ],
   "source": [
    "# Multiplication\n",
    "\n",
    "num1 = input(\"Enter a number: \")\n",
    "num2 = input(\"Enter a number: \")\n",
    "result = float(num1) * float(num2)\n",
    "\n",
    "print(result)"
   ]
  },
  {
   "cell_type": "code",
   "execution_count": 6,
   "id": "e8b547c5",
   "metadata": {},
   "outputs": [
    {
     "name": "stdout",
     "output_type": "stream",
     "text": [
      "Enter a number: 10\n",
      "Enter a number: 2\n",
      "5.0\n"
     ]
    }
   ],
   "source": [
    "# Division\n",
    "\n",
    "num1 = input(\"Enter a number: \")\n",
    "num2 = input(\"Enter a number: \")\n",
    "result = float(num1) / float(num2)\n",
    "\n",
    "print(result)"
   ]
  },
  {
   "cell_type": "markdown",
   "id": "3a2c0081",
   "metadata": {},
   "source": [
    "## Mad Libs Game"
   ]
  },
  {
   "cell_type": "code",
   "execution_count": 7,
   "id": "cc20f294",
   "metadata": {},
   "outputs": [
    {
     "name": "stdout",
     "output_type": "stream",
     "text": [
      "Roses are red\n",
      "Violets are blue\n",
      "I love you\n"
     ]
    }
   ],
   "source": [
    "print(\"Roses are red\")\n",
    "print(\"Violets are blue\")\n",
    "print(\"I love you\")"
   ]
  },
  {
   "cell_type": "code",
   "execution_count": 2,
   "id": "10096190",
   "metadata": {},
   "outputs": [
    {
     "name": "stdout",
     "output_type": "stream",
     "text": [
      "Enter a color: red\n",
      "Enter a plural noun: violets\n",
      "Enter a celebrity: Selena Gomez\n",
      "Roses are red\n",
      "violets are blue\n",
      "I love Selena Gomez\n"
     ]
    }
   ],
   "source": [
    "color = input(\"Enter a color: \")\n",
    "plural_noun = input(\"Enter a plural noun: \")\n",
    "celebrity = input(\"Enter a celebrity: \")\n",
    "\n",
    "print(\"Roses are \" + color)\n",
    "print(plural_noun + \" are blue\")\n",
    "print(\"I love \" + celebrity)"
   ]
  },
  {
   "cell_type": "markdown",
   "id": "d3d9986f",
   "metadata": {},
   "source": [
    "## Lists"
   ]
  },
  {
   "cell_type": "code",
   "execution_count": 12,
   "id": "29af8da3",
   "metadata": {},
   "outputs": [
    {
     "name": "stdout",
     "output_type": "stream",
     "text": [
      "['Kevin', 'Karen', 'Jim']\n"
     ]
    }
   ],
   "source": [
    "friends = [\"Kevin\", \"Karen\", \"Jim\"]\n",
    "print(friends)"
   ]
  },
  {
   "cell_type": "code",
   "execution_count": 14,
   "id": "a215eb58",
   "metadata": {},
   "outputs": [
    {
     "name": "stdout",
     "output_type": "stream",
     "text": [
      "Kevin\n"
     ]
    }
   ],
   "source": [
    "# Return the 1st element\n",
    "\n",
    "friends = [\"Kevin\", \"Karen\", \"Jim\"]\n",
    "print(friends[-0])"
   ]
  },
  {
   "cell_type": "code",
   "execution_count": 24,
   "id": "a43908fe",
   "metadata": {},
   "outputs": [
    {
     "name": "stdout",
     "output_type": "stream",
     "text": [
      "['Kevin', 'Karen']\n"
     ]
    }
   ],
   "source": [
    "# Return elements based on index range\n",
    "\n",
    "friends = [\"Kevin\", \"Karen\", \"Jim\", \"Oscar\", \"Toby\"]\n",
    "print(friends[0:2])"
   ]
  },
  {
   "cell_type": "code",
   "execution_count": 15,
   "id": "0b43a7ee",
   "metadata": {},
   "outputs": [
    {
     "name": "stdout",
     "output_type": "stream",
     "text": [
      "['Kevin', 'Mike']\n",
      "['Kevin', 'Mike', 'Jim', 'Oscar', 'Toby']\n"
     ]
    }
   ],
   "source": [
    "# Modify values inside of arrays\n",
    "\n",
    "friends = [\"Kevin\", \"Karen\", \"Jim\", \"Oscar\", \"Toby\"]\n",
    "friends[1] = \"Mike\"\n",
    "\n",
    "print(friends[0:2])\n",
    "print(friends)"
   ]
  },
  {
   "cell_type": "markdown",
   "id": "91ef6b68",
   "metadata": {},
   "source": [
    "## List Functions"
   ]
  },
  {
   "cell_type": "code",
   "execution_count": 27,
   "id": "3195ee25",
   "metadata": {},
   "outputs": [
    {
     "name": "stdout",
     "output_type": "stream",
     "text": [
      "['Kevin', 'Karen', 'Jim', 'Oscar', 'Toby', 4, 8, 15, 16, 23, 42]\n"
     ]
    }
   ],
   "source": [
    "# Extend element in a list\n",
    "\n",
    "lucky_numbers = [4, 8, 15, 16, 23, 42]\n",
    "friends = [\"Kevin\", \"Karen\", \"Jim\", \"Oscar\", \"Toby\"]\n",
    "friends.extend(lucky_numbers)\n",
    "\n",
    "print(friends)"
   ]
  },
  {
   "cell_type": "code",
   "execution_count": 28,
   "id": "620b900b",
   "metadata": {},
   "outputs": [
    {
     "name": "stdout",
     "output_type": "stream",
     "text": [
      "['Kevin', 'Karen', 'Jim', 'Oscar', 'Toby', 'Creed']\n"
     ]
    }
   ],
   "source": [
    "# Append element in a list\n",
    "\n",
    "lucky_numbers = [4, 8, 15, 16, 23, 42]\n",
    "friends = [\"Kevin\", \"Karen\", \"Jim\", \"Oscar\", \"Toby\"]\n",
    "friends.append(\"Creed\")\n",
    "\n",
    "print(friends)"
   ]
  },
  {
   "cell_type": "code",
   "execution_count": 29,
   "id": "e6c65afa",
   "metadata": {},
   "outputs": [
    {
     "name": "stdout",
     "output_type": "stream",
     "text": [
      "['Kevin', 'Kelly', 'Karen', 'Jim', 'Oscar', 'Toby']\n"
     ]
    }
   ],
   "source": [
    "# Insert element in a list\n",
    "\n",
    "lucky_numbers = [4, 8, 15, 16, 23, 42]\n",
    "friends = [\"Kevin\", \"Karen\", \"Jim\", \"Oscar\", \"Toby\"]\n",
    "friends.insert(1, \"Kelly\")\n",
    "\n",
    "print(friends)"
   ]
  },
  {
   "cell_type": "code",
   "execution_count": 30,
   "id": "07fda725",
   "metadata": {},
   "outputs": [
    {
     "name": "stdout",
     "output_type": "stream",
     "text": [
      "['Kevin', 'Karen', 'Oscar', 'Toby']\n"
     ]
    }
   ],
   "source": [
    "# Remove element\n",
    "\n",
    "lucky_numbers = [4, 8, 15, 16, 23, 42]\n",
    "friends = [\"Kevin\", \"Karen\", \"Jim\", \"Oscar\", \"Toby\"]\n",
    "friends.remove(\"Jim\")\n",
    "\n",
    "print(friends)"
   ]
  },
  {
   "cell_type": "code",
   "execution_count": 31,
   "id": "d280b5e9",
   "metadata": {},
   "outputs": [
    {
     "name": "stdout",
     "output_type": "stream",
     "text": [
      "[]\n"
     ]
    }
   ],
   "source": [
    "# Remove all elements\n",
    "\n",
    "lucky_numbers = [4, 8, 15, 16, 23, 42]\n",
    "friends = [\"Kevin\", \"Karen\", \"Jim\", \"Oscar\", \"Toby\"]\n",
    "friends.clear()\n",
    "\n",
    "print(friends)"
   ]
  },
  {
   "cell_type": "code",
   "execution_count": 18,
   "id": "dded2057",
   "metadata": {},
   "outputs": [
    {
     "name": "stdout",
     "output_type": "stream",
     "text": [
      "['Kevin', 'Karen', 'Jim', 'Oscar']\n"
     ]
    }
   ],
   "source": [
    "# Remove the last element\n",
    "\n",
    "lucky_numbers = [4, 8, 15, 16, 23, 42]\n",
    "friends = [\"Kevin\", \"Karen\", \"Jim\", \"Oscar\", \"Toby\"]\n",
    "friends.pop()\n",
    "\n",
    "print(friends)"
   ]
  },
  {
   "cell_type": "code",
   "execution_count": 34,
   "id": "6f4ceba4",
   "metadata": {},
   "outputs": [
    {
     "name": "stdout",
     "output_type": "stream",
     "text": [
      "3\n"
     ]
    }
   ],
   "source": [
    "# Get the index location\n",
    "\n",
    "lucky_numbers = [4, 8, 15, 16, 23, 42]\n",
    "friends = [\"Kevin\", \"Karen\", \"Jim\", \"Oscar\", \"Toby\"]\n",
    "\n",
    "print(friends.index(\"Oscar\"))"
   ]
  },
  {
   "cell_type": "code",
   "execution_count": 35,
   "id": "49ad42da",
   "metadata": {},
   "outputs": [
    {
     "name": "stdout",
     "output_type": "stream",
     "text": [
      "1\n"
     ]
    }
   ],
   "source": [
    "# Count the value inside the list\n",
    "\n",
    "lucky_numbers = [4, 8, 15, 16, 23, 42]\n",
    "friends = [\"Kevin\", \"Karen\", \"Jim\", \"Oscar\", \"Toby\"]\n",
    "\n",
    "print(friends.count(\"Jim\"))"
   ]
  },
  {
   "cell_type": "code",
   "execution_count": 36,
   "id": "73a1a967",
   "metadata": {},
   "outputs": [
    {
     "name": "stdout",
     "output_type": "stream",
     "text": [
      "['Jim', 'Karen', 'Kevin', 'Oscar', 'Toby']\n"
     ]
    }
   ],
   "source": [
    "# Sort in ascending order\n",
    "\n",
    "lucky_numbers = [4, 8, 15, 16, 23, 42]\n",
    "friends = [\"Kevin\", \"Karen\", \"Jim\", \"Oscar\", \"Toby\"]\n",
    "friends.sort()\n",
    "print(friends)"
   ]
  },
  {
   "cell_type": "code",
   "execution_count": 37,
   "id": "2d488ea2",
   "metadata": {},
   "outputs": [
    {
     "name": "stdout",
     "output_type": "stream",
     "text": [
      "[42, 23, 16, 15, 8, 4]\n"
     ]
    }
   ],
   "source": [
    "# Reverse the order of the list\n",
    "\n",
    "lucky_numbers = [4, 8, 15, 16, 23, 42]\n",
    "friends = [\"Kevin\", \"Karen\", \"Jim\", \"Oscar\", \"Toby\"]\n",
    "lucky_numbers.reverse()\n",
    "print(lucky_numbers)"
   ]
  },
  {
   "cell_type": "code",
   "execution_count": 38,
   "id": "69476a9e",
   "metadata": {},
   "outputs": [
    {
     "name": "stdout",
     "output_type": "stream",
     "text": [
      "['Kevin', 'Karen', 'Jim', 'Oscar', 'Toby']\n"
     ]
    }
   ],
   "source": [
    "# Copy a list\n",
    "\n",
    "lucky_numbers = [4, 8, 15, 16, 23, 42]\n",
    "friends = [\"Kevin\", \"Karen\", \"Jim\", \"Oscar\", \"Toby\"]\n",
    "friends2 = friends.copy()\n",
    "print(friends2)"
   ]
  },
  {
   "cell_type": "markdown",
   "id": "829af19b",
   "metadata": {},
   "source": [
    "## Tuples"
   ]
  },
  {
   "cell_type": "code",
   "execution_count": 20,
   "id": "e30b1b1d",
   "metadata": {},
   "outputs": [
    {
     "name": "stdout",
     "output_type": "stream",
     "text": [
      "4\n"
     ]
    }
   ],
   "source": [
    "# Return the value based on index location\n",
    "# Tuples are immutable\n",
    "\n",
    "coordinates = (4, 5)\n",
    "print(coordinates[0])"
   ]
  },
  {
   "cell_type": "code",
   "execution_count": 41,
   "id": "cddcba54",
   "metadata": {},
   "outputs": [
    {
     "name": "stdout",
     "output_type": "stream",
     "text": [
      "(1, 2)\n"
     ]
    }
   ],
   "source": [
    "# Tuple inside a list\n",
    "\n",
    "coordinates = [(4, 5), (6,7), (80, 34)]\n",
    "print(coordinates[1])"
   ]
  },
  {
   "cell_type": "markdown",
   "id": "efcdd261",
   "metadata": {},
   "source": [
    "## Functions"
   ]
  },
  {
   "cell_type": "code",
   "execution_count": 44,
   "id": "a2da6af5",
   "metadata": {},
   "outputs": [
    {
     "name": "stdout",
     "output_type": "stream",
     "text": [
      "Top\n",
      "Hello User\n",
      "Bottom\n"
     ]
    }
   ],
   "source": [
    "# Defining and calling a function\n",
    "\n",
    "def say_hi():\n",
    "    print(\"Hello User\")\n",
    "\n",
    "    \n",
    "print(\"Top\")\n",
    "say_hi()\n",
    "print(\"Bottom\")"
   ]
  },
  {
   "cell_type": "code",
   "execution_count": 51,
   "id": "865316ac",
   "metadata": {},
   "outputs": [
    {
     "name": "stdout",
     "output_type": "stream",
     "text": [
      "Hello Mike you are 35\n",
      "Hello Steve you are 70\n"
     ]
    }
   ],
   "source": [
    "# Function with Parameters\n",
    "\n",
    "def say_hi(name, age):\n",
    "    print(\"Hello \" + name + \" you are \" + str(age))\n",
    "\n",
    "say_hi(\"Mike\", 35)\n",
    "say_hi(\"Steve\", 70)"
   ]
  },
  {
   "cell_type": "markdown",
   "id": "eb9cf9d6",
   "metadata": {},
   "source": [
    "### Return statements in a function"
   ]
  },
  {
   "cell_type": "code",
   "execution_count": 54,
   "id": "234c30ee",
   "metadata": {},
   "outputs": [
    {
     "name": "stdout",
     "output_type": "stream",
     "text": [
      "27\n"
     ]
    }
   ],
   "source": [
    "def cube(num):\n",
    "    return num*num*num\n",
    "\n",
    "print(cube(3))"
   ]
  },
  {
   "cell_type": "code",
   "execution_count": 55,
   "id": "b84e0be2",
   "metadata": {},
   "outputs": [
    {
     "name": "stdout",
     "output_type": "stream",
     "text": [
      "64\n"
     ]
    }
   ],
   "source": [
    "def cube(num):\n",
    "    return num*num*num\n",
    "\n",
    "result = cube(4)\n",
    "print(result)"
   ]
  },
  {
   "cell_type": "code",
   "execution_count": 1,
   "id": "09bcd539",
   "metadata": {},
   "outputs": [
    {
     "name": "stdout",
     "output_type": "stream",
     "text": [
      "9\n"
     ]
    }
   ],
   "source": [
    "def square(number):\n",
    "    return number * number\n",
    "\n",
    "print(square(3))"
   ]
  },
  {
   "cell_type": "markdown",
   "id": "66356973",
   "metadata": {},
   "source": [
    "## If Statements"
   ]
  },
  {
   "cell_type": "code",
   "execution_count": 6,
   "id": "1f7612ac",
   "metadata": {},
   "outputs": [
    {
     "name": "stdout",
     "output_type": "stream",
     "text": [
      "Male\n"
     ]
    }
   ],
   "source": [
    "sex = \"F\"\n",
    "if sex == \"M\" or \"m\":\n",
    "    print('Male')\n",
    "else:\n",
    "    print('Female')"
   ]
  },
  {
   "cell_type": "code",
   "execution_count": 56,
   "id": "4e570f8f",
   "metadata": {},
   "outputs": [
    {
     "name": "stdout",
     "output_type": "stream",
     "text": [
      "You are not a male\n"
     ]
    }
   ],
   "source": [
    "is_male = False\n",
    "\n",
    "if is_male:\n",
    "    print(\"You are a male\")\n",
    "else:\n",
    "    print(\"You are not a male\")"
   ]
  },
  {
   "cell_type": "code",
   "execution_count": 58,
   "id": "435a64a7",
   "metadata": {},
   "outputs": [
    {
     "name": "stdout",
     "output_type": "stream",
     "text": [
      "You neither male nor tall\n"
     ]
    }
   ],
   "source": [
    "is_male = False\n",
    "is_tall = False\n",
    "\n",
    "if is_male or is_tall:\n",
    "    print(\"You are a male or tall or both\")\n",
    "else:\n",
    "    print(\"You neither male nor tall\")"
   ]
  },
  {
   "cell_type": "code",
   "execution_count": 60,
   "id": "80abdd1e",
   "metadata": {},
   "outputs": [
    {
     "name": "stdout",
     "output_type": "stream",
     "text": [
      "You are a tall male\n"
     ]
    }
   ],
   "source": [
    "is_male = True\n",
    "is_tall = True\n",
    "\n",
    "if is_male and is_tall:\n",
    "    print(\"You are a tall male\")\n",
    "else:\n",
    "    print(\"You either not male or not tall or both\")"
   ]
  },
  {
   "cell_type": "code",
   "execution_count": 65,
   "id": "76a5990c",
   "metadata": {},
   "outputs": [
    {
     "name": "stdout",
     "output_type": "stream",
     "text": [
      "You are not a male but are tall\n"
     ]
    }
   ],
   "source": [
    "is_male = False\n",
    "is_tall = True\n",
    "\n",
    "if is_male and is_tall:\n",
    "    print(\"You are a tall male\")\n",
    "elif is_male and not(is_tall):\n",
    "    print(\"You are a short male\")\n",
    "elif not(is_male) and is_tall:\n",
    "    print(\"You are not a male but are tall\")\n",
    "else:\n",
    "    print(\"You either not male and not tall\")"
   ]
  },
  {
   "cell_type": "markdown",
   "id": "0f75d177",
   "metadata": {},
   "source": [
    "## If Statements and Comparisons"
   ]
  },
  {
   "cell_type": "code",
   "execution_count": 66,
   "id": "b4a773f1",
   "metadata": {},
   "outputs": [
    {
     "name": "stdout",
     "output_type": "stream",
     "text": [
      "5\n"
     ]
    }
   ],
   "source": [
    "def max_num(num1, num2, num3):\n",
    "    if num1 >= num2 and num1 >= num3:\n",
    "        return num1\n",
    "    elif num2 >= num1 and num2 >= num3:\n",
    "        return num2\n",
    "    else:\n",
    "        return num3\n",
    "\n",
    "print(max_num(3, 4, 5))"
   ]
  },
  {
   "cell_type": "code",
   "execution_count": 70,
   "id": "4f14612e",
   "metadata": {},
   "outputs": [
    {
     "name": "stdout",
     "output_type": "stream",
     "text": [
      "Enter first number: 10\n",
      "Enter second number: 15\n",
      "Enter third number: 322\n",
      "322\n"
     ]
    }
   ],
   "source": [
    "num1 = input(\"Enter first number: \")\n",
    "num2 = input(\"Enter second number: \")\n",
    "num3 = input(\"Enter third number: \")\n",
    "\n",
    "def max_num(num1, num2, num3):\n",
    "    if num1 >= num2 and num1 >= num3:\n",
    "        return num1\n",
    "    elif num2 >= num1 and num2 >= num3:\n",
    "        return num2\n",
    "    else:\n",
    "        return num3\n",
    "\n",
    "print(max_num(num1, num2, num3))"
   ]
  },
  {
   "cell_type": "markdown",
   "id": "a7838e3b",
   "metadata": {},
   "source": [
    "## Build a Better Calculator"
   ]
  },
  {
   "cell_type": "code",
   "execution_count": 74,
   "id": "8daa3bb0",
   "metadata": {},
   "outputs": [
    {
     "name": "stdout",
     "output_type": "stream",
     "text": [
      "Enter first number: 10\n",
      "Enter operator: *\n",
      "Enter second number: 10\n",
      "100.0\n"
     ]
    }
   ],
   "source": [
    "num1 = float(input(\"Enter first number: \"))\n",
    "op = input(\"Enter operator: \")\n",
    "num2 = float(input(\"Enter second number: \"))\n",
    "\n",
    "if op == \"+\":\n",
    "    print(num1 + num2)\n",
    "elif op ==\"-\":\n",
    "    print(num1 - num2)\n",
    "elif op ==\"/\":\n",
    "    print(num1 / num2)\n",
    "elif op ==\"*\":\n",
    "    print(num1 * num2)\n",
    "else:\n",
    "    print(\"Invalid Operator\")"
   ]
  },
  {
   "cell_type": "markdown",
   "id": "d389e070",
   "metadata": {},
   "source": [
    "## Dictionaries"
   ]
  },
  {
   "cell_type": "code",
   "execution_count": 25,
   "id": "967123ef",
   "metadata": {},
   "outputs": [
    {
     "name": "stdout",
     "output_type": "stream",
     "text": [
      "{'Jan': 'January', 'Feb': 'March', 'Mar': 'March', 'Apr': 'April', 'May': 'May', 'Jun': 'June', 'Jul': 'July', 'Aug': 'August', 'Sep': 'September', 'Oct': 'October', 'Nov': 'November', 'Dec': 'December'}\n",
      "November\n"
     ]
    }
   ],
   "source": [
    "# Return the value of a key\n",
    "\n",
    "month_conversions = {\n",
    "    \"Jan\": \"January\",\n",
    "    \"Feb\": \"March\",\n",
    "    \"Mar\": \"March\",\n",
    "    \"Apr\": \"April\",\n",
    "    \"May\": \"May\",\n",
    "    \"Jun\": \"June\",\n",
    "    \"Jul\": \"July\",\n",
    "    \"Aug\": \"August\",\n",
    "    \"Sep\": \"September\",\n",
    "    \"Oct\": \"October\",\n",
    "    \"Nov\": \"November\",\n",
    "    \"Dec\": \"December\"\n",
    "}\n",
    "\n",
    "print(month_conversions)\n",
    "print(month_conversions[\"Nov\"])"
   ]
  },
  {
   "cell_type": "code",
   "execution_count": 26,
   "id": "c72fa63c",
   "metadata": {},
   "outputs": [
    {
     "name": "stdout",
     "output_type": "stream",
     "text": [
      "December\n"
     ]
    }
   ],
   "source": [
    "print(month_conversions.get(\"Dec\"))"
   ]
  },
  {
   "cell_type": "code",
   "execution_count": 28,
   "id": "a9d375f3",
   "metadata": {},
   "outputs": [
    {
     "name": "stdout",
     "output_type": "stream",
     "text": [
      "December\n"
     ]
    }
   ],
   "source": [
    "# Passen the value of a key\n",
    "\n",
    "print(month_conversions.get(\"Dec\", \"Not a valid key\"))"
   ]
  },
  {
   "cell_type": "markdown",
   "id": "3566a957",
   "metadata": {},
   "source": [
    "## While Loop"
   ]
  },
  {
   "cell_type": "code",
   "execution_count": 32,
   "id": "1e406366",
   "metadata": {},
   "outputs": [
    {
     "name": "stdout",
     "output_type": "stream",
     "text": [
      "5\n",
      "6\n",
      "7\n",
      "8\n",
      "9\n",
      "10\n",
      "Done with loop\n"
     ]
    }
   ],
   "source": [
    "i = 5\n",
    "\n",
    "while i <= 10:\n",
    "    print(i)\n",
    "    i += 1\n",
    "    \n",
    "print(\"Done with loop\")"
   ]
  },
  {
   "cell_type": "markdown",
   "id": "2d5e208a",
   "metadata": {},
   "source": [
    "## While Loop: Build a Guessing Game"
   ]
  },
  {
   "cell_type": "code",
   "execution_count": 33,
   "id": "cd0339d6",
   "metadata": {},
   "outputs": [
    {
     "name": "stdout",
     "output_type": "stream",
     "text": [
      "Enter guess: lion\n",
      "Enter guess: giraffe\n",
      "You win!\n"
     ]
    }
   ],
   "source": [
    "# Simple Guessing Game\n",
    "\n",
    "secret_word = \"giraffe\"\n",
    "guess = \"\"\n",
    "\n",
    "while guess != secret_word:\n",
    "    guess = input(\"Enter guess: \")\n",
    "\n",
    "print(\"You win!\")"
   ]
  },
  {
   "cell_type": "code",
   "execution_count": 92,
   "id": "7ca1425c",
   "metadata": {},
   "outputs": [
    {
     "name": "stdout",
     "output_type": "stream",
     "text": [
      "Enter a word:asdw\n",
      "Enter a word:sdwasdw\n",
      "Enter a word:asdwa\n",
      "Out of Guesses, You Lose!\n"
     ]
    }
   ],
   "source": [
    "# Guessing Game with Guess limit\n",
    "\n",
    "secret_word = \"giraffe\"\n",
    "guess = \"\"\n",
    "guess_count = 0\n",
    "guess_limit = 3\n",
    "out_of_guesses = False\n",
    "\n",
    "while guess != secret_word and not(out_of_guesses):\n",
    "    if guess_count < guess_limit:\n",
    "        guess = input(\"Enter a word:\")\n",
    "        guess_count += 1\n",
    "    else:\n",
    "        out_of_guesses = True\n",
    "\n",
    "if out_of_guesses:\n",
    "    print(\"Out of Guesses, You Lose!\")\n",
    "else:\n",
    "    print(\"You Win!\")"
   ]
  },
  {
   "cell_type": "markdown",
   "id": "e87025e1",
   "metadata": {},
   "source": [
    "## For Loop"
   ]
  },
  {
   "cell_type": "code",
   "execution_count": 1,
   "id": "3bb64c9a",
   "metadata": {},
   "outputs": [
    {
     "name": "stdout",
     "output_type": "stream",
     "text": [
      "G\n",
      "i\n",
      "r\n",
      "a\n",
      "f\n",
      "f\n",
      "e\n",
      " \n",
      "A\n",
      "c\n",
      "a\n",
      "d\n",
      "e\n",
      "m\n",
      "y\n"
     ]
    }
   ],
   "source": [
    "# Return each letter of a string\n",
    "\n",
    "for letter in \"Giraffe Academy\":\n",
    "    print(letter)"
   ]
  },
  {
   "cell_type": "code",
   "execution_count": 34,
   "id": "369a2ab4",
   "metadata": {},
   "outputs": [
    {
     "name": "stdout",
     "output_type": "stream",
     "text": [
      "G\n",
      "i\n",
      "r\n",
      "a\n",
      "f\n",
      "f\n",
      "e\n",
      " \n",
      "A\n",
      "c\n",
      "a\n",
      "d\n",
      "e\n",
      "m\n",
      "y\n"
     ]
    }
   ],
   "source": [
    "# Return each letter from a variable\n",
    "\n",
    "letters = \"Giraffe Academy\"\n",
    "\n",
    "for letter in letters:\n",
    "    print(letter)"
   ]
  },
  {
   "cell_type": "code",
   "execution_count": 97,
   "id": "96062722",
   "metadata": {},
   "outputs": [
    {
     "name": "stdout",
     "output_type": "stream",
     "text": [
      "Jim\n",
      "Karen\n",
      "Kevin\n"
     ]
    }
   ],
   "source": [
    "# Return each value of the list\n",
    "friends = [\"Jim\", \"Karen\", \"Kevin\"]\n",
    "\n",
    "for loop in friends:\n",
    "    print(loop)"
   ]
  },
  {
   "cell_type": "code",
   "execution_count": 99,
   "id": "8a9372e4",
   "metadata": {},
   "outputs": [
    {
     "name": "stdout",
     "output_type": "stream",
     "text": [
      "0\n",
      "1\n",
      "2\n",
      "3\n",
      "4\n",
      "5\n",
      "6\n",
      "7\n",
      "8\n",
      "9\n"
     ]
    }
   ],
   "source": [
    "# Iterate each number based on range\n",
    "\n",
    "for index in range(10):\n",
    "    print(index)"
   ]
  },
  {
   "cell_type": "code",
   "execution_count": 37,
   "id": "030cfe83",
   "metadata": {},
   "outputs": [
    {
     "name": "stdout",
     "output_type": "stream",
     "text": [
      "Jim\n",
      "Karen\n",
      "Kevin\n"
     ]
    }
   ],
   "source": [
    "friends = [\"Jim\", \"Karen\", \"Kevin\"]\n",
    "\n",
    "for index in range(len(friends)):\n",
    "    print(friends[index])"
   ]
  },
  {
   "cell_type": "code",
   "execution_count": 3,
   "id": "2799e67e",
   "metadata": {},
   "outputs": [
    {
     "name": "stdout",
     "output_type": "stream",
     "text": [
      "3\n",
      "4\n",
      "5\n",
      "6\n",
      "7\n",
      "8\n",
      "9\n"
     ]
    }
   ],
   "source": [
    "for index in range(3, 10):\n",
    "    print(index)"
   ]
  },
  {
   "cell_type": "code",
   "execution_count": 5,
   "id": "061df008",
   "metadata": {},
   "outputs": [
    {
     "name": "stdout",
     "output_type": "stream",
     "text": [
      "0 1 2 3 4 5 6 7 8 9 "
     ]
    }
   ],
   "source": [
    "# Iterate each number horizontally based on range\n",
    "\n",
    "for index in range(10):\n",
    "    print(index, end=' ')"
   ]
  },
  {
   "cell_type": "code",
   "execution_count": 38,
   "id": "e85ec924",
   "metadata": {},
   "outputs": [
    {
     "name": "stdout",
     "output_type": "stream",
     "text": [
      "First Iteration\n",
      "Not first\n",
      "Not first\n",
      "Not first\n",
      "Not first\n"
     ]
    }
   ],
   "source": [
    "for index in range(5):\n",
    "    if index == 0:\n",
    "        print(\"First Iteration\")\n",
    "    else:\n",
    "        print(\"Not first\")"
   ]
  },
  {
   "cell_type": "markdown",
   "id": "b8d189db",
   "metadata": {},
   "source": [
    "## For Loop: Exponent Function"
   ]
  },
  {
   "cell_type": "code",
   "execution_count": 108,
   "id": "9b713e75",
   "metadata": {},
   "outputs": [
    {
     "name": "stdout",
     "output_type": "stream",
     "text": [
      "8\n"
     ]
    }
   ],
   "source": [
    "print(2**3)"
   ]
  },
  {
   "cell_type": "code",
   "execution_count": 110,
   "id": "c1aa7f9e",
   "metadata": {},
   "outputs": [
    {
     "name": "stdout",
     "output_type": "stream",
     "text": [
      "81\n"
     ]
    }
   ],
   "source": [
    "def raise_to_power(base_num, pow_num):\n",
    "    result = 1\n",
    "    for index in range(pow_num):\n",
    "        result = result * base_num\n",
    "    return result\n",
    "\n",
    "print(raise_to_power(3, 4))"
   ]
  },
  {
   "cell_type": "markdown",
   "id": "2e8e8200",
   "metadata": {},
   "source": [
    "## 2D Lists & Nested Loops"
   ]
  },
  {
   "cell_type": "code",
   "execution_count": 3,
   "id": "892ea973",
   "metadata": {},
   "outputs": [
    {
     "name": "stdout",
     "output_type": "stream",
     "text": [
      "1\n"
     ]
    }
   ],
   "source": [
    "# Return values from a 2D list\n",
    "\n",
    "number_grid = [\n",
    "    [1, 2, 3],\n",
    "    [4, 5, 6],\n",
    "    [7, 8, 9],\n",
    "    [0]\n",
    "]\n",
    "\n",
    "print(number_grid[0][0])"
   ]
  },
  {
   "cell_type": "code",
   "execution_count": 5,
   "id": "04b62aa0",
   "metadata": {},
   "outputs": [
    {
     "name": "stdout",
     "output_type": "stream",
     "text": [
      "[1, 2, 3]\n",
      "[4, 5, 6]\n",
      "[7, 8, 9]\n",
      "[0]\n"
     ]
    }
   ],
   "source": [
    "# Return each row in the list\n",
    "\n",
    "for row in number_grid:\n",
    "    print(row)"
   ]
  },
  {
   "cell_type": "code",
   "execution_count": 118,
   "id": "d6c2a15c",
   "metadata": {},
   "outputs": [
    {
     "name": "stdout",
     "output_type": "stream",
     "text": [
      "1\n",
      "2\n",
      "3\n",
      "4\n",
      "5\n",
      "6\n",
      "7\n",
      "8\n",
      "9\n",
      "0\n"
     ]
    }
   ],
   "source": [
    "# Nested For Loop\n",
    "\n",
    "for col in number_grid:\n",
    "    for row in col:\n",
    "        print(row)"
   ]
  },
  {
   "cell_type": "markdown",
   "id": "a0bb7f46",
   "metadata": {},
   "source": [
    "## Build a Translator"
   ]
  },
  {
   "cell_type": "code",
   "execution_count": 120,
   "id": "bb1521b7",
   "metadata": {},
   "outputs": [
    {
     "name": "stdout",
     "output_type": "stream",
     "text": [
      "Enter a phrase: dog\n",
      "dgg\n"
     ]
    }
   ],
   "source": [
    "def translate(phrase):\n",
    "    translation = \"\"\n",
    "    for letter in phrase:\n",
    "        if letter in \"AEIOUaeiou\":\n",
    "            translation = translation + \"g\"\n",
    "        else:\n",
    "            translation = translation + letter\n",
    "    return translation\n",
    "\n",
    "print(translate(input(\"Enter a phrase: \")))"
   ]
  },
  {
   "cell_type": "code",
   "execution_count": 125,
   "id": "7518b5cc",
   "metadata": {},
   "outputs": [
    {
     "name": "stdout",
     "output_type": "stream",
     "text": [
      "Enter a phrase: dog\n",
      "dgg\n"
     ]
    }
   ],
   "source": [
    "def translate(phrase):\n",
    "    translation = \"\"\n",
    "    for letter in phrase:\n",
    "        if letter.lower() in \"aeiou\":\n",
    "            if letter.isupper():\n",
    "                translation = translation + \"G\"\n",
    "            else:\n",
    "                translation = translation + \"g\"\n",
    "        else:\n",
    "            translation = translation + letter\n",
    "    return translation\n",
    "\n",
    "print(translate(input(\"Enter a phrase: \")))"
   ]
  },
  {
   "cell_type": "markdown",
   "id": "c643a7b2",
   "metadata": {},
   "source": [
    "## Comments"
   ]
  },
  {
   "cell_type": "code",
   "execution_count": 126,
   "id": "94193a85",
   "metadata": {},
   "outputs": [
    {
     "name": "stdout",
     "output_type": "stream",
     "text": [
      "Comments are fun\n"
     ]
    }
   ],
   "source": [
    "# This program is cool\n",
    "\n",
    "print(\"Comments are fun\")"
   ]
  },
  {
   "cell_type": "markdown",
   "id": "201ce818",
   "metadata": {},
   "source": [
    "## Try and Except"
   ]
  },
  {
   "cell_type": "code",
   "execution_count": 6,
   "id": "d5f7f48c",
   "metadata": {},
   "outputs": [
    {
     "name": "stdout",
     "output_type": "stream",
     "text": [
      "Enter a number: 23\n",
      "23\n"
     ]
    }
   ],
   "source": [
    "number = int(input(\"Enter a number: \"))\n",
    "print(number)"
   ]
  },
  {
   "cell_type": "code",
   "execution_count": 1,
   "id": "c5f451e2",
   "metadata": {},
   "outputs": [
    {
     "name": "stdout",
     "output_type": "stream",
     "text": [
      "Enter a number: adwasdw\n",
      "Invalid Input\n"
     ]
    }
   ],
   "source": [
    "try:\n",
    "    number = int(input(\"Enter a number: \"))\n",
    "    print(number)\n",
    "except:\n",
    "    print(\"Invalid Input\")"
   ]
  },
  {
   "cell_type": "code",
   "execution_count": 7,
   "id": "577d1547",
   "metadata": {},
   "outputs": [
    {
     "name": "stdout",
     "output_type": "stream",
     "text": [
      "division by zero\n"
     ]
    }
   ],
   "source": [
    "try:\n",
    "    answer = 10/0\n",
    "    number = int(input(\"Enter a number: \"))\n",
    "    print(number)\n",
    "except ZeroDivisionError as err:\n",
    "    print(err)\n",
    "except ValueError:\n",
    "    print(\"Invalid input\")"
   ]
  },
  {
   "cell_type": "code",
   "execution_count": 3,
   "id": "459ace70",
   "metadata": {},
   "outputs": [
    {
     "name": "stdout",
     "output_type": "stream",
     "text": [
      "Age: 3\n",
      "3\n"
     ]
    }
   ],
   "source": [
    "try:\n",
    "    age = int(input('Age: '))\n",
    "    print(age)\n",
    "except ValueError:\n",
    "    print('Invalid value')"
   ]
  },
  {
   "cell_type": "markdown",
   "id": "2d6df45f",
   "metadata": {},
   "source": [
    "## Reading External Files"
   ]
  },
  {
   "cell_type": "code",
   "execution_count": 5,
   "id": "7b806a4a",
   "metadata": {},
   "outputs": [
    {
     "name": "stdout",
     "output_type": "stream",
     "text": [
      "\n",
      "Norman = Data Scientist\n"
     ]
    }
   ],
   "source": [
    "employee_file = open(\"employees.txt\", \"r\")\n",
    "print(employee_file.read())\n",
    "employee_file.close()"
   ]
  },
  {
   "cell_type": "code",
   "execution_count": 6,
   "id": "7467464f",
   "metadata": {},
   "outputs": [
    {
     "name": "stdout",
     "output_type": "stream",
     "text": [
      "\n",
      "\n"
     ]
    }
   ],
   "source": [
    "employee_file = open(\"employees.txt\", \"r\")\n",
    "print(employee_file.readline())\n",
    "employee_file.close()"
   ]
  },
  {
   "cell_type": "code",
   "execution_count": 7,
   "id": "8329300b",
   "metadata": {},
   "outputs": [
    {
     "name": "stdout",
     "output_type": "stream",
     "text": [
      "True\n"
     ]
    }
   ],
   "source": [
    "employee_file = open(\"employees.txt\", \"r\")\n",
    "print(employee_file.readable())\n",
    "employee_file.close()"
   ]
  },
  {
   "cell_type": "code",
   "execution_count": 8,
   "id": "a56761f0",
   "metadata": {},
   "outputs": [
    {
     "name": "stdout",
     "output_type": "stream",
     "text": [
      "['\\n', 'Norman = Data Scientist']\n"
     ]
    }
   ],
   "source": [
    "# Read the file throuah an array\n",
    "\n",
    "employee_file = open(\"employees.txt\", \"r\")\n",
    "print(employee_file.readlines())\n",
    "employee_file.close()"
   ]
  },
  {
   "cell_type": "code",
   "execution_count": 9,
   "id": "e671083b",
   "metadata": {},
   "outputs": [
    {
     "name": "stdout",
     "output_type": "stream",
     "text": [
      "\n",
      "\n",
      "Norman = Data Scientist\n"
     ]
    }
   ],
   "source": [
    "# Read the file throuah using a for loop\n",
    "\n",
    "employee_file = open(\"employees.txt\", \"r\")\n",
    "for employee in employee_file.readlines():\n",
    "    print(employee)\n",
    "employee_file.close()"
   ]
  },
  {
   "cell_type": "markdown",
   "id": "d24e910b",
   "metadata": {},
   "source": [
    "## Writing to External Files"
   ]
  },
  {
   "cell_type": "code",
   "execution_count": 2,
   "id": "500b3e52",
   "metadata": {},
   "outputs": [
    {
     "name": "stdout",
     "output_type": "stream",
     "text": [
      "Jam = IT Support\n"
     ]
    }
   ],
   "source": [
    "employee_file = open(\"employees.txt\", \"r\")\n",
    "print(employee_file.read())\n",
    "employee_file.close()"
   ]
  },
  {
   "cell_type": "code",
   "execution_count": 3,
   "id": "b9c2794c",
   "metadata": {},
   "outputs": [
    {
     "name": "stdout",
     "output_type": "stream",
     "text": [
      "18\n",
      "Jam = IT Support\n",
      "Mike = IT Support\n"
     ]
    }
   ],
   "source": [
    "# Appending a line\n",
    "\n",
    "employee_file = open(\"employees.txt\", \"a\")\n",
    "print(employee_file.write(\"\\nMike = IT Support\"))\n",
    "employee_file.close()\n",
    "\n",
    "employee_file = open(\"employees.txt\", \"r\")\n",
    "print(employee_file.read())\n",
    "employee_file.close()"
   ]
  },
  {
   "cell_type": "code",
   "execution_count": 4,
   "id": "0561feb4",
   "metadata": {},
   "outputs": [
    {
     "name": "stdout",
     "output_type": "stream",
     "text": [
      "24\n",
      "\n",
      "Norman = Data Scientist\n"
     ]
    }
   ],
   "source": [
    "# Writing a line\n",
    "employee_file = open(\"employees.txt\", \"w\")\n",
    "print(employee_file.write(\"\\nNorman = Data Scientist\"))\n",
    "employee_file.close()\n",
    "\n",
    "employee_file = open(\"employees.txt\", \"r\")\n",
    "print(employee_file.read())\n",
    "employee_file.close()"
   ]
  },
  {
   "cell_type": "markdown",
   "id": "63d9ed31",
   "metadata": {},
   "source": [
    "## Modules & PIP"
   ]
  },
  {
   "cell_type": "code",
   "execution_count": null,
   "id": "4418deeb",
   "metadata": {},
   "outputs": [],
   "source": [
    "# Execute using Pycharm Community\n",
    "\n",
    "import useful_tools\n",
    "\n",
    "print(useful_tools.roll_dice(10))"
   ]
  },
  {
   "cell_type": "code",
   "execution_count": null,
   "id": "33447422",
   "metadata": {},
   "outputs": [],
   "source": [
    "# List of Python Modules\n",
    "\n",
    "https://docs.python.org/3/py-modindex.html"
   ]
  },
  {
   "cell_type": "markdown",
   "id": "4b711977",
   "metadata": {},
   "source": [
    "## Classes & Objects"
   ]
  },
  {
   "cell_type": "code",
   "execution_count": null,
   "id": "7df64be4",
   "metadata": {},
   "outputs": [],
   "source": [
    "# Execute using Pycharm Community\n",
    "\n",
    "from Student import Student\n",
    "\n",
    "student1 = Student(\"Jim\", \"Business\", 3.1, False)\n",
    "student2 = Student(\"Pam\", \"Art\", 2.5, True)\n",
    "\n",
    "print(student2.name)\n",
    "print(student2.gpa)"
   ]
  },
  {
   "cell_type": "code",
   "execution_count": 4,
   "id": "ad92b08b",
   "metadata": {},
   "outputs": [
    {
     "name": "stdout",
     "output_type": "stream",
     "text": [
      "10\n",
      "draw\n",
      "1\n"
     ]
    }
   ],
   "source": [
    "class Point:\n",
    "    def move(self):\n",
    "        print(\"move\")\n",
    "\n",
    "    def draw(self):\n",
    "        print(\"draw\")\n",
    "\n",
    "point1 = Point()\n",
    "point1.x = 10\n",
    "point1.y = 20\n",
    "print(point1.x)\n",
    "point1.draw()\n",
    "\n",
    "point2 = Point()\n",
    "point2.x = 1\n",
    "print(point2.x)"
   ]
  },
  {
   "cell_type": "code",
   "execution_count": 5,
   "id": "005b9abd",
   "metadata": {},
   "outputs": [
    {
     "name": "stdout",
     "output_type": "stream",
     "text": [
      "John Smith\n",
      "talk\n"
     ]
    }
   ],
   "source": [
    "class Person:\n",
    "    def __init__(self, name):\n",
    "        self.name = name\n",
    "\n",
    "    def talk(self):\n",
    "        print(\"talk\")\n",
    "\n",
    "john = Person(\"John Smith\")\n",
    "print(john.name)\n",
    "john.talk()"
   ]
  },
  {
   "cell_type": "markdown",
   "id": "66708b90",
   "metadata": {},
   "source": [
    "## Building a Multiply Choice Quiz"
   ]
  },
  {
   "cell_type": "code",
   "execution_count": 3,
   "id": "911f6938",
   "metadata": {},
   "outputs": [
    {
     "name": "stdout",
     "output_type": "stream",
     "text": [
      "Choose the letter of your answer. \n",
      "What color are apples?\n",
      "(a) Red/Green\n",
      "(b) Purple\n",
      "(c) Orange\n",
      "\n",
      "Your Answer: b\n",
      "Choose the letter of your answer. \n",
      "What color are bananas?\n",
      "(a) Teal\n",
      "(b) Magenta\n",
      "(c) Yellow\n",
      "\n",
      "Your Answer: c\n",
      "Choose the letter of your answer. \n",
      "What color are strawberries?\n",
      "(a) Yellow\n",
      "(b) Red\n",
      "(c) Blue\n",
      "\n",
      "Your Answer: a\n",
      "You got 2/3 correct.\n"
     ]
    }
   ],
   "source": [
    "#Execute in Pycharm\n",
    "from question import Question\n",
    "\n",
    "question_prompts = [\n",
    "    \"What color are Apples?\\n(a) Red/Green\\n(b) Purple\\n(c) Orange\\n\\n\",\n",
    "    \"What color are Bananas?\\n(a) Teal\\n(b) Magenta\\n(c) Yellow\\n\\n\",\n",
    "    \"What color are Strawberries?\\n(a) Yellow\\n(b) Red\\n(c) Blue\\n\\n\"\n",
    "]\n",
    "\n",
    "questions = [\n",
    "    question(question_prompts[0], \"a\"),\n",
    "    question(question_prompts[1], \"c\"),\n",
    "    question(question_prompts[2], \"b\"),\n",
    "]\n",
    "\n",
    "def run_test(questions):\n",
    "    score = 0\n",
    "    for question in questions:\n",
    "        answer = input(question.prompt)\n",
    "        if answer == question.answer:\n",
    "            score += 1\n",
    "    print(\"You got \" + str(score) + \"/\" + str(len(questions)) + \"Correct\")\n",
    "\n",
    "run_test(questions)"
   ]
  },
  {
   "cell_type": "markdown",
   "id": "4d78b1e8",
   "metadata": {},
   "source": [
    "## Object Functions"
   ]
  },
  {
   "cell_type": "code",
   "execution_count": null,
   "id": "330607d2",
   "metadata": {},
   "outputs": [],
   "source": [
    "#Execute in Pycharm\n",
    "from student2 import Student\n",
    "\n",
    "student1 = Student(\"Oscar\", \"Accounting\", 3.1)\n",
    "student2 = Student(\"Phyllis\", \"Art\", 3.8)\n",
    "\n",
    "print(student1.on_honor_roll())"
   ]
  },
  {
   "cell_type": "markdown",
   "id": "98ee30c1",
   "metadata": {},
   "source": [
    "## Emoji Reader/Converter"
   ]
  },
  {
   "cell_type": "code",
   "execution_count": 2,
   "id": "0a1bcd13",
   "metadata": {},
   "outputs": [
    {
     "name": "stdout",
     "output_type": "stream",
     "text": [
      ">:)\n",
      "😀 \n"
     ]
    }
   ],
   "source": [
    "message = input(\">\")\n",
    "words = message.split(' ')\n",
    "emojis = {\n",
    "    \":)\": \"😀\",\n",
    "    \":(\": \"😔\"\n",
    "}\n",
    "output = \"\"\n",
    "for word in words:\n",
    "    output += emojis.get(word, word) + \" \"\n",
    "print(output)"
   ]
  },
  {
   "cell_type": "markdown",
   "id": "2166bac8",
   "metadata": {},
   "source": [
    "## Inheritance"
   ]
  },
  {
   "cell_type": "code",
   "execution_count": null,
   "id": "3e25ab5a",
   "metadata": {},
   "outputs": [],
   "source": [
    "#Execute in Pycharm\n",
    "from chef import Chef\n",
    "from chinese_chef import ChineseChef\n",
    "\n",
    "myChef = Chef()\n",
    "myChef.make_special_dish()\n",
    "\n",
    "myChineseChef = ChineseChef()\n",
    "myChineseChef.make_special_dish()\n",
    "myChineseChef.make_fried_rice()"
   ]
  }
 ],
 "metadata": {
  "kernelspec": {
   "display_name": "Python 3 (ipykernel)",
   "language": "python",
   "name": "python3"
  },
  "language_info": {
   "codemirror_mode": {
    "name": "ipython",
    "version": 3
   },
   "file_extension": ".py",
   "mimetype": "text/x-python",
   "name": "python",
   "nbconvert_exporter": "python",
   "pygments_lexer": "ipython3",
   "version": "3.11.2"
  }
 },
 "nbformat": 4,
 "nbformat_minor": 5
}
