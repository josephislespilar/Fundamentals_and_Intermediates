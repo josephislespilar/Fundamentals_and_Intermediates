{
 "cells": [
  {
   "cell_type": "markdown",
   "id": "1cf07347",
   "metadata": {},
   "source": [
    "## Build a Multiple Choice Quiz"
   ]
  },
  {
   "cell_type": "code",
   "execution_count": 1,
   "id": "45aadf9c",
   "metadata": {},
   "outputs": [
    {
     "name": "stdout",
     "output_type": "stream",
     "text": [
      "Choose the letter of your answer: \n",
      " \n",
      "What color are apples?\n",
      "(a) Red/Green\n",
      "(b) Purple\n",
      "(c) Orange\n",
      "\n",
      "Your Answer: b\n",
      "---------------------------------------------------------------\n",
      "Choose the letter of your answer: \n",
      " \n",
      "What color are bananas?\n",
      "(a) Teal\n",
      "(b) Magenta\n",
      "(c) Yellow\n",
      "\n",
      "Your Answer: c\n",
      "---------------------------------------------------------------\n",
      "Choose the letter of your answer: \n",
      " \n",
      "What color are strawberries?\n",
      "(a) Yellow\n",
      "(b) Red\n",
      "(c) Blue\n",
      "\n",
      "Your Answer: d\n",
      "---------------------------------------------------------------\n",
      "---------------------------------------------------------------\n",
      "You got 1/3 correct.\n"
     ]
    }
   ],
   "source": [
    "from Question import Question\n",
    "\n",
    "question_prompts = [\n",
    "    \"What color are apples?\\n(a) Red/Green\\n(b) Purple\\n(c) Orange\\n\\n\",\n",
    "    \"What color are bananas?\\n(a) Teal\\n(b) Magenta\\n(c) Yellow\\n\\n\",\n",
    "    \"What color are strawberries?\\n(a) Yellow\\n(b) Red\\n(c) Blue\\n\\n\"\n",
    "]\n",
    "\n",
    "questions = [\n",
    "    Question(question_prompts[0], \"a\"),\n",
    "    Question(question_prompts[1], \"c\"),\n",
    "    Question(question_prompts[2], \"a\")\n",
    "]\n",
    "\n",
    "def run_test(questions):\n",
    "    score = 0\n",
    "    for question in questions:\n",
    "        answer = input(\"Choose the letter of your answer: \\n \\n\" + question.prompt + \"Your Answer: \")\n",
    "        print(\"---------------------------------------------------------------\")\n",
    "        if answer == question.answer:\n",
    "            score += 1\n",
    "    print(\"---------------------------------------------------------------\")\n",
    "    print(\"You got \" + str(score) + \"/\" + str(len(questions)) + \" correct.\")\n",
    "\n",
    "run_test(questions)"
   ]
  }
 ],
 "metadata": {
  "kernelspec": {
   "display_name": "Python 3 (ipykernel)",
   "language": "python",
   "name": "python3"
  },
  "language_info": {
   "codemirror_mode": {
    "name": "ipython",
    "version": 3
   },
   "file_extension": ".py",
   "mimetype": "text/x-python",
   "name": "python",
   "nbconvert_exporter": "python",
   "pygments_lexer": "ipython3",
   "version": "3.11.2"
  }
 },
 "nbformat": 4,
 "nbformat_minor": 5
}
