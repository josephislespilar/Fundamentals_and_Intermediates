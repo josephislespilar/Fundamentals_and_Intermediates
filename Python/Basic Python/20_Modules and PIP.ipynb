{
 "cells": [
  {
   "cell_type": "markdown",
   "id": "119259e3",
   "metadata": {},
   "source": [
    "#### Import a module and run"
   ]
  },
  {
   "cell_type": "code",
   "execution_count": 1,
   "id": "bae2aa93",
   "metadata": {},
   "outputs": [
    {
     "name": "stdout",
     "output_type": "stream",
     "text": [
      "2\n"
     ]
    }
   ],
   "source": [
    "import Useful_Tools\n",
    "\n",
    "print(Useful_Tools.roll_dice(10))"
   ]
  },
  {
   "cell_type": "markdown",
   "id": "e6874532",
   "metadata": {},
   "source": [
    "#### List of Python Modules\n",
    "\n",
    "https://docs.python.org/3/py-modindex.html"
   ]
  }
 ],
 "metadata": {
  "kernelspec": {
   "display_name": "Python 3 (ipykernel)",
   "language": "python",
   "name": "python3"
  },
  "language_info": {
   "codemirror_mode": {
    "name": "ipython",
    "version": 3
   },
   "file_extension": ".py",
   "mimetype": "text/x-python",
   "name": "python",
   "nbconvert_exporter": "python",
   "pygments_lexer": "ipython3",
   "version": "3.11.2"
  }
 },
 "nbformat": 4,
 "nbformat_minor": 5
}
